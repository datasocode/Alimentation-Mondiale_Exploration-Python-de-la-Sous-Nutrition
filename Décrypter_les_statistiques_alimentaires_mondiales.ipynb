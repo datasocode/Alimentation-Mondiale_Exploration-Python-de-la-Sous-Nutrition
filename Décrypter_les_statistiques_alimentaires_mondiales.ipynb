{
  "cells": [
    {
      "cell_type": "markdown",
      "metadata": {
        "id": "view-in-github",
        "colab_type": "text"
      },
      "source": [
        "<a href=\"https://colab.research.google.com/github/datasocode/Alimentation-Mondiale_Exploration-Python-de-la-Sous-Nutrition/blob/main/De%CC%81crypter_les_statistiques_alimentaires_mondiales.ipynb\" target=\"_parent\"><img src=\"https://colab.research.google.com/assets/colab-badge.svg\" alt=\"Open In Colab\"/></a>"
      ]
    },
    {
      "cell_type": "markdown",
      "id": "ea5bbc0a",
      "metadata": {
        "id": "ea5bbc0a"
      },
      "source": [
        "# Importation des librairies Python"
      ]
    },
    {
      "cell_type": "code",
      "execution_count": null,
      "id": "77a191ae",
      "metadata": {
        "id": "77a191ae"
      },
      "outputs": [],
      "source": [
        "import numpy as np\n",
        "import pandas as pd"
      ]
    },
    {
      "cell_type": "markdown",
      "id": "5f86bea0",
      "metadata": {
        "id": "5f86bea0"
      },
      "source": [
        "# Importation et vérification des données"
      ]
    },
    {
      "cell_type": "code",
      "execution_count": null,
      "id": "7e1edd30",
      "metadata": {
        "id": "7e1edd30",
        "outputId": "9f77db8f-e967-4022-df73-146fec98501e"
      },
      "outputs": [
        {
          "data": {
            "text/html": [
              "<div>\n",
              "<style scoped>\n",
              "    .dataframe tbody tr th:only-of-type {\n",
              "        vertical-align: middle;\n",
              "    }\n",
              "\n",
              "    .dataframe tbody tr th {\n",
              "        vertical-align: top;\n",
              "    }\n",
              "\n",
              "    .dataframe thead th {\n",
              "        text-align: right;\n",
              "    }\n",
              "</style>\n",
              "<table border=\"1\" class=\"dataframe\">\n",
              "  <thead>\n",
              "    <tr style=\"text-align: right;\">\n",
              "      <th></th>\n",
              "      <th>Pays bénéficiaire</th>\n",
              "      <th>Année</th>\n",
              "      <th>Produit</th>\n",
              "      <th>Valeur</th>\n",
              "    </tr>\n",
              "  </thead>\n",
              "  <tbody>\n",
              "    <tr>\n",
              "      <th>0</th>\n",
              "      <td>Afghanistan</td>\n",
              "      <td>2013</td>\n",
              "      <td>Autres non-céréales</td>\n",
              "      <td>682</td>\n",
              "    </tr>\n",
              "    <tr>\n",
              "      <th>1</th>\n",
              "      <td>Afghanistan</td>\n",
              "      <td>2014</td>\n",
              "      <td>Autres non-céréales</td>\n",
              "      <td>335</td>\n",
              "    </tr>\n",
              "    <tr>\n",
              "      <th>2</th>\n",
              "      <td>Afghanistan</td>\n",
              "      <td>2013</td>\n",
              "      <td>Blé et Farin</td>\n",
              "      <td>39224</td>\n",
              "    </tr>\n",
              "    <tr>\n",
              "      <th>3</th>\n",
              "      <td>Afghanistan</td>\n",
              "      <td>2014</td>\n",
              "      <td>Blé et Farin</td>\n",
              "      <td>15160</td>\n",
              "    </tr>\n",
              "    <tr>\n",
              "      <th>4</th>\n",
              "      <td>Afghanistan</td>\n",
              "      <td>2013</td>\n",
              "      <td>Céréales</td>\n",
              "      <td>40504</td>\n",
              "    </tr>\n",
              "  </tbody>\n",
              "</table>\n",
              "</div>"
            ],
            "text/plain": [
              "  Pays bénéficiaire  Année              Produit  Valeur\n",
              "0       Afghanistan   2013  Autres non-céréales     682\n",
              "1       Afghanistan   2014  Autres non-céréales     335\n",
              "2       Afghanistan   2013         Blé et Farin   39224\n",
              "3       Afghanistan   2014         Blé et Farin   15160\n",
              "4       Afghanistan   2013             Céréales   40504"
            ]
          },
          "execution_count": 84,
          "metadata": {},
          "output_type": "execute_result"
        }
      ],
      "source": [
        "aide_alimentaire = pd.read_csv('aide_alimentaire.csv')\n",
        "aide_alimentaire.head()"
      ]
    },
    {
      "cell_type": "code",
      "execution_count": null,
      "id": "a8a3e511",
      "metadata": {
        "id": "a8a3e511",
        "outputId": "81c985c9-f7e1-4c20-c359-3faaba96e9e3"
      },
      "outputs": [
        {
          "data": {
            "text/html": [
              "<div>\n",
              "<style scoped>\n",
              "    .dataframe tbody tr th:only-of-type {\n",
              "        vertical-align: middle;\n",
              "    }\n",
              "\n",
              "    .dataframe tbody tr th {\n",
              "        vertical-align: top;\n",
              "    }\n",
              "\n",
              "    .dataframe thead th {\n",
              "        text-align: right;\n",
              "    }\n",
              "</style>\n",
              "<table border=\"1\" class=\"dataframe\">\n",
              "  <thead>\n",
              "    <tr style=\"text-align: right;\">\n",
              "      <th></th>\n",
              "      <th>Zone</th>\n",
              "      <th>Année</th>\n",
              "      <th>Valeur</th>\n",
              "    </tr>\n",
              "  </thead>\n",
              "  <tbody>\n",
              "    <tr>\n",
              "      <th>0</th>\n",
              "      <td>Afghanistan</td>\n",
              "      <td>2013</td>\n",
              "      <td>32269.589</td>\n",
              "    </tr>\n",
              "    <tr>\n",
              "      <th>1</th>\n",
              "      <td>Afghanistan</td>\n",
              "      <td>2014</td>\n",
              "      <td>33370.794</td>\n",
              "    </tr>\n",
              "    <tr>\n",
              "      <th>2</th>\n",
              "      <td>Afghanistan</td>\n",
              "      <td>2015</td>\n",
              "      <td>34413.603</td>\n",
              "    </tr>\n",
              "    <tr>\n",
              "      <th>3</th>\n",
              "      <td>Afghanistan</td>\n",
              "      <td>2016</td>\n",
              "      <td>35383.032</td>\n",
              "    </tr>\n",
              "    <tr>\n",
              "      <th>4</th>\n",
              "      <td>Afghanistan</td>\n",
              "      <td>2017</td>\n",
              "      <td>36296.113</td>\n",
              "    </tr>\n",
              "  </tbody>\n",
              "</table>\n",
              "</div>"
            ],
            "text/plain": [
              "          Zone  Année     Valeur\n",
              "0  Afghanistan   2013  32269.589\n",
              "1  Afghanistan   2014  33370.794\n",
              "2  Afghanistan   2015  34413.603\n",
              "3  Afghanistan   2016  35383.032\n",
              "4  Afghanistan   2017  36296.113"
            ]
          },
          "execution_count": 85,
          "metadata": {},
          "output_type": "execute_result"
        }
      ],
      "source": [
        "population = pd.read_csv('population.csv')\n",
        "population.head()"
      ]
    },
    {
      "cell_type": "code",
      "execution_count": null,
      "id": "751f411f",
      "metadata": {
        "id": "751f411f",
        "outputId": "790d39c3-cfa2-42b5-ca61-373c13b63370"
      },
      "outputs": [
        {
          "data": {
            "text/html": [
              "<div>\n",
              "<style scoped>\n",
              "    .dataframe tbody tr th:only-of-type {\n",
              "        vertical-align: middle;\n",
              "    }\n",
              "\n",
              "    .dataframe tbody tr th {\n",
              "        vertical-align: top;\n",
              "    }\n",
              "\n",
              "    .dataframe thead th {\n",
              "        text-align: right;\n",
              "    }\n",
              "</style>\n",
              "<table border=\"1\" class=\"dataframe\">\n",
              "  <thead>\n",
              "    <tr style=\"text-align: right;\">\n",
              "      <th></th>\n",
              "      <th>Zone</th>\n",
              "      <th>Année</th>\n",
              "      <th>Valeur</th>\n",
              "    </tr>\n",
              "  </thead>\n",
              "  <tbody>\n",
              "    <tr>\n",
              "      <th>0</th>\n",
              "      <td>Afghanistan</td>\n",
              "      <td>2012-2014</td>\n",
              "      <td>8.6</td>\n",
              "    </tr>\n",
              "    <tr>\n",
              "      <th>1</th>\n",
              "      <td>Afghanistan</td>\n",
              "      <td>2013-2015</td>\n",
              "      <td>8.8</td>\n",
              "    </tr>\n",
              "    <tr>\n",
              "      <th>2</th>\n",
              "      <td>Afghanistan</td>\n",
              "      <td>2014-2016</td>\n",
              "      <td>8.9</td>\n",
              "    </tr>\n",
              "    <tr>\n",
              "      <th>3</th>\n",
              "      <td>Afghanistan</td>\n",
              "      <td>2015-2017</td>\n",
              "      <td>9.7</td>\n",
              "    </tr>\n",
              "    <tr>\n",
              "      <th>4</th>\n",
              "      <td>Afghanistan</td>\n",
              "      <td>2016-2018</td>\n",
              "      <td>10.5</td>\n",
              "    </tr>\n",
              "  </tbody>\n",
              "</table>\n",
              "</div>"
            ],
            "text/plain": [
              "          Zone      Année Valeur\n",
              "0  Afghanistan  2012-2014    8.6\n",
              "1  Afghanistan  2013-2015    8.8\n",
              "2  Afghanistan  2014-2016    8.9\n",
              "3  Afghanistan  2015-2017    9.7\n",
              "4  Afghanistan  2016-2018   10.5"
            ]
          },
          "execution_count": 86,
          "metadata": {},
          "output_type": "execute_result"
        }
      ],
      "source": [
        "sous_nutrition = pd.read_csv('sous_nutrition.csv')\n",
        "sous_nutrition.head()"
      ]
    },
    {
      "cell_type": "code",
      "execution_count": null,
      "id": "0457e2b8",
      "metadata": {
        "id": "0457e2b8",
        "outputId": "11e31a4c-72f4-42f4-a909-7d705a60cc76"
      },
      "outputs": [
        {
          "data": {
            "text/html": [
              "<div>\n",
              "<style scoped>\n",
              "    .dataframe tbody tr th:only-of-type {\n",
              "        vertical-align: middle;\n",
              "    }\n",
              "\n",
              "    .dataframe tbody tr th {\n",
              "        vertical-align: top;\n",
              "    }\n",
              "\n",
              "    .dataframe thead th {\n",
              "        text-align: right;\n",
              "    }\n",
              "</style>\n",
              "<table border=\"1\" class=\"dataframe\">\n",
              "  <thead>\n",
              "    <tr style=\"text-align: right;\">\n",
              "      <th></th>\n",
              "      <th>Zone</th>\n",
              "      <th>Produit</th>\n",
              "      <th>Origine</th>\n",
              "      <th>Aliments pour animaux</th>\n",
              "      <th>Autres Utilisations</th>\n",
              "      <th>Disponibilité alimentaire (Kcal/personne/jour)</th>\n",
              "      <th>Disponibilité alimentaire en quantité (kg/personne/an)</th>\n",
              "      <th>Disponibilité de matière grasse en quantité (g/personne/jour)</th>\n",
              "      <th>Disponibilité de protéines en quantité (g/personne/jour)</th>\n",
              "      <th>Disponibilité intérieure</th>\n",
              "      <th>Exportations - Quantité</th>\n",
              "      <th>Importations - Quantité</th>\n",
              "      <th>Nourriture</th>\n",
              "      <th>Pertes</th>\n",
              "      <th>Production</th>\n",
              "      <th>Semences</th>\n",
              "      <th>Traitement</th>\n",
              "      <th>Variation de stock</th>\n",
              "    </tr>\n",
              "  </thead>\n",
              "  <tbody>\n",
              "    <tr>\n",
              "      <th>0</th>\n",
              "      <td>Afghanistan</td>\n",
              "      <td>Abats Comestible</td>\n",
              "      <td>animale</td>\n",
              "      <td>NaN</td>\n",
              "      <td>NaN</td>\n",
              "      <td>5.0</td>\n",
              "      <td>1.72</td>\n",
              "      <td>0.20</td>\n",
              "      <td>0.77</td>\n",
              "      <td>53.0</td>\n",
              "      <td>NaN</td>\n",
              "      <td>NaN</td>\n",
              "      <td>53.0</td>\n",
              "      <td>NaN</td>\n",
              "      <td>53.0</td>\n",
              "      <td>NaN</td>\n",
              "      <td>NaN</td>\n",
              "      <td>NaN</td>\n",
              "    </tr>\n",
              "    <tr>\n",
              "      <th>1</th>\n",
              "      <td>Afghanistan</td>\n",
              "      <td>Agrumes, Autres</td>\n",
              "      <td>vegetale</td>\n",
              "      <td>NaN</td>\n",
              "      <td>NaN</td>\n",
              "      <td>1.0</td>\n",
              "      <td>1.29</td>\n",
              "      <td>0.01</td>\n",
              "      <td>0.02</td>\n",
              "      <td>41.0</td>\n",
              "      <td>2.0</td>\n",
              "      <td>40.0</td>\n",
              "      <td>39.0</td>\n",
              "      <td>2.0</td>\n",
              "      <td>3.0</td>\n",
              "      <td>NaN</td>\n",
              "      <td>NaN</td>\n",
              "      <td>NaN</td>\n",
              "    </tr>\n",
              "    <tr>\n",
              "      <th>2</th>\n",
              "      <td>Afghanistan</td>\n",
              "      <td>Aliments pour enfants</td>\n",
              "      <td>vegetale</td>\n",
              "      <td>NaN</td>\n",
              "      <td>NaN</td>\n",
              "      <td>1.0</td>\n",
              "      <td>0.06</td>\n",
              "      <td>0.01</td>\n",
              "      <td>0.03</td>\n",
              "      <td>2.0</td>\n",
              "      <td>NaN</td>\n",
              "      <td>2.0</td>\n",
              "      <td>2.0</td>\n",
              "      <td>NaN</td>\n",
              "      <td>NaN</td>\n",
              "      <td>NaN</td>\n",
              "      <td>NaN</td>\n",
              "      <td>NaN</td>\n",
              "    </tr>\n",
              "    <tr>\n",
              "      <th>3</th>\n",
              "      <td>Afghanistan</td>\n",
              "      <td>Ananas</td>\n",
              "      <td>vegetale</td>\n",
              "      <td>NaN</td>\n",
              "      <td>NaN</td>\n",
              "      <td>0.0</td>\n",
              "      <td>0.00</td>\n",
              "      <td>NaN</td>\n",
              "      <td>NaN</td>\n",
              "      <td>0.0</td>\n",
              "      <td>NaN</td>\n",
              "      <td>0.0</td>\n",
              "      <td>0.0</td>\n",
              "      <td>NaN</td>\n",
              "      <td>NaN</td>\n",
              "      <td>NaN</td>\n",
              "      <td>NaN</td>\n",
              "      <td>NaN</td>\n",
              "    </tr>\n",
              "    <tr>\n",
              "      <th>4</th>\n",
              "      <td>Afghanistan</td>\n",
              "      <td>Bananes</td>\n",
              "      <td>vegetale</td>\n",
              "      <td>NaN</td>\n",
              "      <td>NaN</td>\n",
              "      <td>4.0</td>\n",
              "      <td>2.70</td>\n",
              "      <td>0.02</td>\n",
              "      <td>0.05</td>\n",
              "      <td>82.0</td>\n",
              "      <td>NaN</td>\n",
              "      <td>82.0</td>\n",
              "      <td>82.0</td>\n",
              "      <td>NaN</td>\n",
              "      <td>NaN</td>\n",
              "      <td>NaN</td>\n",
              "      <td>NaN</td>\n",
              "      <td>NaN</td>\n",
              "    </tr>\n",
              "  </tbody>\n",
              "</table>\n",
              "</div>"
            ],
            "text/plain": [
              "          Zone                Produit   Origine  Aliments pour animaux  \\\n",
              "0  Afghanistan       Abats Comestible   animale                    NaN   \n",
              "1  Afghanistan        Agrumes, Autres  vegetale                    NaN   \n",
              "2  Afghanistan  Aliments pour enfants  vegetale                    NaN   \n",
              "3  Afghanistan                 Ananas  vegetale                    NaN   \n",
              "4  Afghanistan                Bananes  vegetale                    NaN   \n",
              "\n",
              "   Autres Utilisations  Disponibilité alimentaire (Kcal/personne/jour)  \\\n",
              "0                  NaN                                             5.0   \n",
              "1                  NaN                                             1.0   \n",
              "2                  NaN                                             1.0   \n",
              "3                  NaN                                             0.0   \n",
              "4                  NaN                                             4.0   \n",
              "\n",
              "   Disponibilité alimentaire en quantité (kg/personne/an)  \\\n",
              "0                                               1.72        \n",
              "1                                               1.29        \n",
              "2                                               0.06        \n",
              "3                                               0.00        \n",
              "4                                               2.70        \n",
              "\n",
              "   Disponibilité de matière grasse en quantité (g/personne/jour)  \\\n",
              "0                                               0.20               \n",
              "1                                               0.01               \n",
              "2                                               0.01               \n",
              "3                                                NaN               \n",
              "4                                               0.02               \n",
              "\n",
              "   Disponibilité de protéines en quantité (g/personne/jour)  \\\n",
              "0                                               0.77          \n",
              "1                                               0.02          \n",
              "2                                               0.03          \n",
              "3                                                NaN          \n",
              "4                                               0.05          \n",
              "\n",
              "   Disponibilité intérieure  Exportations - Quantité  Importations - Quantité  \\\n",
              "0                      53.0                      NaN                      NaN   \n",
              "1                      41.0                      2.0                     40.0   \n",
              "2                       2.0                      NaN                      2.0   \n",
              "3                       0.0                      NaN                      0.0   \n",
              "4                      82.0                      NaN                     82.0   \n",
              "\n",
              "   Nourriture  Pertes  Production  Semences  Traitement  Variation de stock  \n",
              "0        53.0     NaN        53.0       NaN         NaN                 NaN  \n",
              "1        39.0     2.0         3.0       NaN         NaN                 NaN  \n",
              "2         2.0     NaN         NaN       NaN         NaN                 NaN  \n",
              "3         0.0     NaN         NaN       NaN         NaN                 NaN  \n",
              "4        82.0     NaN         NaN       NaN         NaN                 NaN  "
            ]
          },
          "execution_count": 87,
          "metadata": {},
          "output_type": "execute_result"
        }
      ],
      "source": [
        "dispo_alimentaire = pd.read_csv('dispo_alimentaire.csv')\n",
        "dispo_alimentaire.head()"
      ]
    },
    {
      "cell_type": "markdown",
      "id": "3cbccbe8",
      "metadata": {
        "id": "3cbccbe8"
      },
      "source": [
        "# La proportion de personnes en état de sous-nutrition en 2017"
      ]
    },
    {
      "cell_type": "code",
      "execution_count": null,
      "id": "e8d5950a",
      "metadata": {
        "id": "e8d5950a"
      },
      "outputs": [],
      "source": [
        "population = pd.read_csv('population.csv')"
      ]
    },
    {
      "cell_type": "code",
      "execution_count": null,
      "id": "febb7896",
      "metadata": {
        "scrolled": false,
        "id": "febb7896",
        "outputId": "d6214bae-b92c-4927-9a7b-65f57fdff015"
      },
      "outputs": [
        {
          "data": {
            "text/html": [
              "<div>\n",
              "<style scoped>\n",
              "    .dataframe tbody tr th:only-of-type {\n",
              "        vertical-align: middle;\n",
              "    }\n",
              "\n",
              "    .dataframe tbody tr th {\n",
              "        vertical-align: top;\n",
              "    }\n",
              "\n",
              "    .dataframe thead th {\n",
              "        text-align: right;\n",
              "    }\n",
              "</style>\n",
              "<table border=\"1\" class=\"dataframe\">\n",
              "  <thead>\n",
              "    <tr style=\"text-align: right;\">\n",
              "      <th></th>\n",
              "      <th>Zone</th>\n",
              "      <th>Année</th>\n",
              "      <th>Valeur</th>\n",
              "    </tr>\n",
              "  </thead>\n",
              "  <tbody>\n",
              "    <tr>\n",
              "      <th>0</th>\n",
              "      <td>Afghanistan</td>\n",
              "      <td>2013</td>\n",
              "      <td>32269.589</td>\n",
              "    </tr>\n",
              "    <tr>\n",
              "      <th>1</th>\n",
              "      <td>Afghanistan</td>\n",
              "      <td>2014</td>\n",
              "      <td>33370.794</td>\n",
              "    </tr>\n",
              "    <tr>\n",
              "      <th>2</th>\n",
              "      <td>Afghanistan</td>\n",
              "      <td>2015</td>\n",
              "      <td>34413.603</td>\n",
              "    </tr>\n",
              "    <tr>\n",
              "      <th>3</th>\n",
              "      <td>Afghanistan</td>\n",
              "      <td>2016</td>\n",
              "      <td>35383.032</td>\n",
              "    </tr>\n",
              "    <tr>\n",
              "      <th>4</th>\n",
              "      <td>Afghanistan</td>\n",
              "      <td>2017</td>\n",
              "      <td>36296.113</td>\n",
              "    </tr>\n",
              "  </tbody>\n",
              "</table>\n",
              "</div>"
            ],
            "text/plain": [
              "          Zone  Année     Valeur\n",
              "0  Afghanistan   2013  32269.589\n",
              "1  Afghanistan   2014  33370.794\n",
              "2  Afghanistan   2015  34413.603\n",
              "3  Afghanistan   2016  35383.032\n",
              "4  Afghanistan   2017  36296.113"
            ]
          },
          "execution_count": 89,
          "metadata": {},
          "output_type": "execute_result"
        }
      ],
      "source": [
        "population.head()"
      ]
    },
    {
      "cell_type": "code",
      "execution_count": null,
      "id": "403573a9",
      "metadata": {
        "scrolled": true,
        "id": "403573a9",
        "outputId": "4b4b4180-ce0f-4d0a-dca7-6654e2395df7"
      },
      "outputs": [
        {
          "data": {
            "text/html": [
              "<div>\n",
              "<style scoped>\n",
              "    .dataframe tbody tr th:only-of-type {\n",
              "        vertical-align: middle;\n",
              "    }\n",
              "\n",
              "    .dataframe tbody tr th {\n",
              "        vertical-align: top;\n",
              "    }\n",
              "\n",
              "    .dataframe thead th {\n",
              "        text-align: right;\n",
              "    }\n",
              "</style>\n",
              "<table border=\"1\" class=\"dataframe\">\n",
              "  <thead>\n",
              "    <tr style=\"text-align: right;\">\n",
              "      <th></th>\n",
              "      <th>Zone</th>\n",
              "      <th>Année</th>\n",
              "      <th>Valeur</th>\n",
              "    </tr>\n",
              "  </thead>\n",
              "  <tbody>\n",
              "    <tr>\n",
              "      <th>4</th>\n",
              "      <td>Afghanistan</td>\n",
              "      <td>2017</td>\n",
              "      <td>36296.113</td>\n",
              "    </tr>\n",
              "    <tr>\n",
              "      <th>10</th>\n",
              "      <td>Afrique du Sud</td>\n",
              "      <td>2017</td>\n",
              "      <td>57009.756</td>\n",
              "    </tr>\n",
              "    <tr>\n",
              "      <th>16</th>\n",
              "      <td>Albanie</td>\n",
              "      <td>2017</td>\n",
              "      <td>2884.169</td>\n",
              "    </tr>\n",
              "    <tr>\n",
              "      <th>22</th>\n",
              "      <td>Algérie</td>\n",
              "      <td>2017</td>\n",
              "      <td>41389.189</td>\n",
              "    </tr>\n",
              "    <tr>\n",
              "      <th>28</th>\n",
              "      <td>Allemagne</td>\n",
              "      <td>2017</td>\n",
              "      <td>82658.409</td>\n",
              "    </tr>\n",
              "  </tbody>\n",
              "</table>\n",
              "</div>"
            ],
            "text/plain": [
              "              Zone  Année     Valeur\n",
              "4      Afghanistan   2017  36296.113\n",
              "10  Afrique du Sud   2017  57009.756\n",
              "16         Albanie   2017   2884.169\n",
              "22         Algérie   2017  41389.189\n",
              "28       Allemagne   2017  82658.409"
            ]
          },
          "execution_count": 90,
          "metadata": {},
          "output_type": "execute_result"
        }
      ],
      "source": [
        "population_2017 = population.loc[population['Année'] == 2017,:]\n",
        "\n",
        "#. Loc [] qui permet de sélectionner des lignes et des colonnes dans un DataFrame.\n",
        "\n",
        "population_2017.head()"
      ]
    },
    {
      "cell_type": "code",
      "execution_count": null,
      "id": "6265a7e0",
      "metadata": {
        "scrolled": true,
        "id": "6265a7e0"
      },
      "outputs": [],
      "source": [
        "total_population_2017 = population_2017.groupby('Zone').sum()['Valeur'] * 1000\n",
        "\n",
        "# J’utilise la méthode groupby et sum pour regrouper les valeurs de Zone et obtenir la somme de ces valeurs"
      ]
    },
    {
      "cell_type": "code",
      "execution_count": null,
      "id": "657371d7",
      "metadata": {
        "id": "657371d7",
        "outputId": "bec81bb3-8998-4407-f184-6f26c4345733"
      },
      "outputs": [
        {
          "data": {
            "text/html": [
              "<div>\n",
              "<style scoped>\n",
              "    .dataframe tbody tr th:only-of-type {\n",
              "        vertical-align: middle;\n",
              "    }\n",
              "\n",
              "    .dataframe tbody tr th {\n",
              "        vertical-align: top;\n",
              "    }\n",
              "\n",
              "    .dataframe thead th {\n",
              "        text-align: right;\n",
              "    }\n",
              "</style>\n",
              "<table border=\"1\" class=\"dataframe\">\n",
              "  <thead>\n",
              "    <tr style=\"text-align: right;\">\n",
              "      <th></th>\n",
              "      <th>Valeur</th>\n",
              "    </tr>\n",
              "    <tr>\n",
              "      <th>Zone</th>\n",
              "      <th></th>\n",
              "    </tr>\n",
              "  </thead>\n",
              "  <tbody>\n",
              "    <tr>\n",
              "      <th>Afghanistan</th>\n",
              "      <td>36296113.0</td>\n",
              "    </tr>\n",
              "    <tr>\n",
              "      <th>Afrique du Sud</th>\n",
              "      <td>57009756.0</td>\n",
              "    </tr>\n",
              "    <tr>\n",
              "      <th>Albanie</th>\n",
              "      <td>2884169.0</td>\n",
              "    </tr>\n",
              "    <tr>\n",
              "      <th>Algérie</th>\n",
              "      <td>41389189.0</td>\n",
              "    </tr>\n",
              "    <tr>\n",
              "      <th>Allemagne</th>\n",
              "      <td>82658409.0</td>\n",
              "    </tr>\n",
              "  </tbody>\n",
              "</table>\n",
              "</div>"
            ],
            "text/plain": [
              "                    Valeur\n",
              "Zone                      \n",
              "Afghanistan     36296113.0\n",
              "Afrique du Sud  57009756.0\n",
              "Albanie          2884169.0\n",
              "Algérie         41389189.0\n",
              "Allemagne       82658409.0"
            ]
          },
          "execution_count": 92,
          "metadata": {},
          "output_type": "execute_result"
        }
      ],
      "source": [
        "pd.DataFrame(total_population_2017).head()"
      ]
    },
    {
      "cell_type": "code",
      "execution_count": null,
      "id": "3faa08fe",
      "metadata": {
        "id": "3faa08fe",
        "outputId": "5004b522-ea56-46f2-d9b0-988d49140ac0"
      },
      "outputs": [
        {
          "data": {
            "text/plain": [
              "7548134111.0"
            ]
          },
          "execution_count": 93,
          "metadata": {},
          "output_type": "execute_result"
        }
      ],
      "source": [
        "a = total_population_2017.sum()\n",
        "a"
      ]
    },
    {
      "cell_type": "code",
      "execution_count": null,
      "id": "c06c5933",
      "metadata": {
        "scrolled": true,
        "id": "c06c5933",
        "outputId": "8cc7985a-326e-4b2c-c71c-860b5f9f07d0"
      },
      "outputs": [
        {
          "data": {
            "text/html": [
              "<div>\n",
              "<style scoped>\n",
              "    .dataframe tbody tr th:only-of-type {\n",
              "        vertical-align: middle;\n",
              "    }\n",
              "\n",
              "    .dataframe tbody tr th {\n",
              "        vertical-align: top;\n",
              "    }\n",
              "\n",
              "    .dataframe thead th {\n",
              "        text-align: right;\n",
              "    }\n",
              "</style>\n",
              "<table border=\"1\" class=\"dataframe\">\n",
              "  <thead>\n",
              "    <tr style=\"text-align: right;\">\n",
              "      <th></th>\n",
              "      <th>Zone</th>\n",
              "      <th>Année</th>\n",
              "      <th>Valeur</th>\n",
              "    </tr>\n",
              "  </thead>\n",
              "  <tbody>\n",
              "    <tr>\n",
              "      <th>0</th>\n",
              "      <td>Afghanistan</td>\n",
              "      <td>2012-2014</td>\n",
              "      <td>8.6</td>\n",
              "    </tr>\n",
              "    <tr>\n",
              "      <th>1</th>\n",
              "      <td>Afghanistan</td>\n",
              "      <td>2013-2015</td>\n",
              "      <td>8.8</td>\n",
              "    </tr>\n",
              "    <tr>\n",
              "      <th>2</th>\n",
              "      <td>Afghanistan</td>\n",
              "      <td>2014-2016</td>\n",
              "      <td>8.9</td>\n",
              "    </tr>\n",
              "    <tr>\n",
              "      <th>3</th>\n",
              "      <td>Afghanistan</td>\n",
              "      <td>2015-2017</td>\n",
              "      <td>9.7</td>\n",
              "    </tr>\n",
              "    <tr>\n",
              "      <th>4</th>\n",
              "      <td>Afghanistan</td>\n",
              "      <td>2016-2018</td>\n",
              "      <td>10.5</td>\n",
              "    </tr>\n",
              "  </tbody>\n",
              "</table>\n",
              "</div>"
            ],
            "text/plain": [
              "          Zone      Année Valeur\n",
              "0  Afghanistan  2012-2014    8.6\n",
              "1  Afghanistan  2013-2015    8.8\n",
              "2  Afghanistan  2014-2016    8.9\n",
              "3  Afghanistan  2015-2017    9.7\n",
              "4  Afghanistan  2016-2018   10.5"
            ]
          },
          "execution_count": 94,
          "metadata": {},
          "output_type": "execute_result"
        }
      ],
      "source": [
        "sous_nutrition = pd.read_csv('sous_nutrition.csv')\n",
        "sous_nutrition.head()"
      ]
    },
    {
      "cell_type": "code",
      "execution_count": null,
      "id": "4039e4ab",
      "metadata": {
        "id": "4039e4ab",
        "outputId": "bd8fbba0-f469-4cea-8c53-80cbe970e461"
      },
      "outputs": [
        {
          "data": {
            "text/plain": [
              "Zone      object\n",
              "Année     object\n",
              "Valeur    object\n",
              "dtype: object"
            ]
          },
          "execution_count": 95,
          "metadata": {},
          "output_type": "execute_result"
        }
      ],
      "source": [
        "sous_nutrition.dtypes\n",
        "\n",
        "# J’utilise la méthode. Dtypes pour vérifier les types de données de chaque colonne, le fichier sous nutrition."
      ]
    },
    {
      "cell_type": "code",
      "execution_count": null,
      "id": "4f278853",
      "metadata": {
        "id": "4f278853"
      },
      "outputs": [],
      "source": [
        "sous_nutrition['Valeur'] = sous_nutrition['Valeur'].replace('<0.1',0.1).astype('float')\n",
        "\n",
        "# La méthode str.replace() remplace toutes les occurrences de '<0.1' par '0.1', puis la méthode .astype(float)\n",
        "# convertit les valeurs de la colonne en nombres décimaux (float)."
      ]
    },
    {
      "cell_type": "code",
      "execution_count": null,
      "id": "d3a10fee",
      "metadata": {
        "id": "d3a10fee",
        "outputId": "09216cf0-0074-495a-c612-5a34c104365a"
      },
      "outputs": [
        {
          "data": {
            "text/plain": [
              "Zone       object\n",
              "Année      object\n",
              "Valeur    float64\n",
              "dtype: object"
            ]
          },
          "execution_count": 97,
          "metadata": {},
          "output_type": "execute_result"
        }
      ],
      "source": [
        "sous_nutrition.dtypes"
      ]
    },
    {
      "cell_type": "code",
      "execution_count": null,
      "id": "22f98111",
      "metadata": {
        "id": "22f98111",
        "outputId": "f9887759-e3e5-44a8-dd5c-cff044148a37"
      },
      "outputs": [
        {
          "data": {
            "text/html": [
              "<div>\n",
              "<style scoped>\n",
              "    .dataframe tbody tr th:only-of-type {\n",
              "        vertical-align: middle;\n",
              "    }\n",
              "\n",
              "    .dataframe tbody tr th {\n",
              "        vertical-align: top;\n",
              "    }\n",
              "\n",
              "    .dataframe thead th {\n",
              "        text-align: right;\n",
              "    }\n",
              "</style>\n",
              "<table border=\"1\" class=\"dataframe\">\n",
              "  <thead>\n",
              "    <tr style=\"text-align: right;\">\n",
              "      <th></th>\n",
              "      <th>Zone</th>\n",
              "      <th>Année</th>\n",
              "      <th>Valeur</th>\n",
              "    </tr>\n",
              "  </thead>\n",
              "  <tbody>\n",
              "    <tr>\n",
              "      <th>0</th>\n",
              "      <td>Afghanistan</td>\n",
              "      <td>2012-2014</td>\n",
              "      <td>8.6</td>\n",
              "    </tr>\n",
              "    <tr>\n",
              "      <th>1</th>\n",
              "      <td>Afghanistan</td>\n",
              "      <td>2013-2015</td>\n",
              "      <td>8.8</td>\n",
              "    </tr>\n",
              "    <tr>\n",
              "      <th>2</th>\n",
              "      <td>Afghanistan</td>\n",
              "      <td>2014-2016</td>\n",
              "      <td>8.9</td>\n",
              "    </tr>\n",
              "    <tr>\n",
              "      <th>3</th>\n",
              "      <td>Afghanistan</td>\n",
              "      <td>2015-2017</td>\n",
              "      <td>9.7</td>\n",
              "    </tr>\n",
              "    <tr>\n",
              "      <th>4</th>\n",
              "      <td>Afghanistan</td>\n",
              "      <td>2016-2018</td>\n",
              "      <td>10.5</td>\n",
              "    </tr>\n",
              "  </tbody>\n",
              "</table>\n",
              "</div>"
            ],
            "text/plain": [
              "          Zone      Année  Valeur\n",
              "0  Afghanistan  2012-2014     8.6\n",
              "1  Afghanistan  2013-2015     8.8\n",
              "2  Afghanistan  2014-2016     8.9\n",
              "3  Afghanistan  2015-2017     9.7\n",
              "4  Afghanistan  2016-2018    10.5"
            ]
          },
          "execution_count": 98,
          "metadata": {},
          "output_type": "execute_result"
        }
      ],
      "source": [
        "sous_nutrition.loc[sous_nutrition['Valeur'] > 0].head()"
      ]
    },
    {
      "cell_type": "code",
      "execution_count": null,
      "id": "98652b10",
      "metadata": {
        "id": "98652b10",
        "outputId": "ce2cb5d0-ea44-4732-8c41-e5e179f83c57"
      },
      "outputs": [
        {
          "data": {
            "text/html": [
              "<div>\n",
              "<style scoped>\n",
              "    .dataframe tbody tr th:only-of-type {\n",
              "        vertical-align: middle;\n",
              "    }\n",
              "\n",
              "    .dataframe tbody tr th {\n",
              "        vertical-align: top;\n",
              "    }\n",
              "\n",
              "    .dataframe thead th {\n",
              "        text-align: right;\n",
              "    }\n",
              "</style>\n",
              "<table border=\"1\" class=\"dataframe\">\n",
              "  <thead>\n",
              "    <tr style=\"text-align: right;\">\n",
              "      <th></th>\n",
              "      <th>Zone</th>\n",
              "      <th>Année</th>\n",
              "      <th>Valeur</th>\n",
              "    </tr>\n",
              "  </thead>\n",
              "  <tbody>\n",
              "    <tr>\n",
              "      <th>4</th>\n",
              "      <td>Afghanistan</td>\n",
              "      <td>2016-2018</td>\n",
              "      <td>10.5</td>\n",
              "    </tr>\n",
              "    <tr>\n",
              "      <th>10</th>\n",
              "      <td>Afrique du Sud</td>\n",
              "      <td>2016-2018</td>\n",
              "      <td>3.1</td>\n",
              "    </tr>\n",
              "    <tr>\n",
              "      <th>16</th>\n",
              "      <td>Albanie</td>\n",
              "      <td>2016-2018</td>\n",
              "      <td>0.1</td>\n",
              "    </tr>\n",
              "    <tr>\n",
              "      <th>22</th>\n",
              "      <td>Algérie</td>\n",
              "      <td>2016-2018</td>\n",
              "      <td>1.3</td>\n",
              "    </tr>\n",
              "    <tr>\n",
              "      <th>28</th>\n",
              "      <td>Allemagne</td>\n",
              "      <td>2016-2018</td>\n",
              "      <td>NaN</td>\n",
              "    </tr>\n",
              "  </tbody>\n",
              "</table>\n",
              "</div>"
            ],
            "text/plain": [
              "              Zone      Année  Valeur\n",
              "4      Afghanistan  2016-2018    10.5\n",
              "10  Afrique du Sud  2016-2018     3.1\n",
              "16         Albanie  2016-2018     0.1\n",
              "22         Algérie  2016-2018     1.3\n",
              "28       Allemagne  2016-2018     NaN"
            ]
          },
          "execution_count": 99,
          "metadata": {},
          "output_type": "execute_result"
        }
      ],
      "source": [
        "sous_nutrition_2017 = sous_nutrition.loc[sous_nutrition['Année'] == '2016-2018']\n",
        "sous_nutrition_2017.head()"
      ]
    },
    {
      "cell_type": "code",
      "execution_count": null,
      "id": "2574a210",
      "metadata": {
        "id": "2574a210"
      },
      "outputs": [],
      "source": [
        "total_sous_nutrition_2017 = sous_nutrition_2017.groupby('Zone').sum()['Valeur'] *1000000"
      ]
    },
    {
      "cell_type": "code",
      "execution_count": null,
      "id": "d427171c",
      "metadata": {
        "id": "d427171c",
        "outputId": "bc82928a-79b4-4817-c702-ddc03a5a3bd1"
      },
      "outputs": [
        {
          "data": {
            "text/html": [
              "<div>\n",
              "<style scoped>\n",
              "    .dataframe tbody tr th:only-of-type {\n",
              "        vertical-align: middle;\n",
              "    }\n",
              "\n",
              "    .dataframe tbody tr th {\n",
              "        vertical-align: top;\n",
              "    }\n",
              "\n",
              "    .dataframe thead th {\n",
              "        text-align: right;\n",
              "    }\n",
              "</style>\n",
              "<table border=\"1\" class=\"dataframe\">\n",
              "  <thead>\n",
              "    <tr style=\"text-align: right;\">\n",
              "      <th></th>\n",
              "      <th>Valeur</th>\n",
              "    </tr>\n",
              "    <tr>\n",
              "      <th>Zone</th>\n",
              "      <th></th>\n",
              "    </tr>\n",
              "  </thead>\n",
              "  <tbody>\n",
              "    <tr>\n",
              "      <th>Afghanistan</th>\n",
              "      <td>10500000.0</td>\n",
              "    </tr>\n",
              "    <tr>\n",
              "      <th>Afrique du Sud</th>\n",
              "      <td>3100000.0</td>\n",
              "    </tr>\n",
              "    <tr>\n",
              "      <th>Albanie</th>\n",
              "      <td>100000.0</td>\n",
              "    </tr>\n",
              "    <tr>\n",
              "      <th>Algérie</th>\n",
              "      <td>1300000.0</td>\n",
              "    </tr>\n",
              "    <tr>\n",
              "      <th>Allemagne</th>\n",
              "      <td>0.0</td>\n",
              "    </tr>\n",
              "  </tbody>\n",
              "</table>\n",
              "</div>"
            ],
            "text/plain": [
              "                    Valeur\n",
              "Zone                      \n",
              "Afghanistan     10500000.0\n",
              "Afrique du Sud   3100000.0\n",
              "Albanie           100000.0\n",
              "Algérie          1300000.0\n",
              "Allemagne              0.0"
            ]
          },
          "execution_count": 101,
          "metadata": {},
          "output_type": "execute_result"
        }
      ],
      "source": [
        "pd.DataFrame(total_sous_nutrition_2017).head()"
      ]
    },
    {
      "cell_type": "code",
      "execution_count": null,
      "id": "5948b603",
      "metadata": {
        "id": "5948b603",
        "outputId": "bd86f27d-b5cd-4a6b-a8bf-7977e43f09eb"
      },
      "outputs": [
        {
          "data": {
            "text/plain": [
              "537700000.0"
            ]
          },
          "execution_count": 102,
          "metadata": {},
          "output_type": "execute_result"
        }
      ],
      "source": [
        "b = total_sous_nutrition_2017.sum()\n",
        "b"
      ]
    },
    {
      "cell_type": "code",
      "execution_count": null,
      "id": "6c20ca12",
      "metadata": {
        "id": "6c20ca12",
        "outputId": "e37f3782-f41b-4671-ec87-25f8a0b347e4"
      },
      "outputs": [
        {
          "data": {
            "text/plain": [
              "7.12"
            ]
          },
          "execution_count": 103,
          "metadata": {},
          "output_type": "execute_result"
        }
      ],
      "source": [
        "proportion = b/a * 100\n",
        "\n",
        "# Multipliez le résultat par 100 pour obtenir le pourcentage de la population en sous-nutrition.\n",
        "# Utilisez la fonction round () pour arrondir le résultat à deux décimales.\n",
        "\n",
        "proportion.round(2)"
      ]
    },
    {
      "cell_type": "markdown",
      "id": "21e73d13",
      "metadata": {
        "id": "21e73d13"
      },
      "source": [
        "# Le nombre théorique de personnes qui pourraient être nourries."
      ]
    },
    {
      "cell_type": "code",
      "execution_count": null,
      "id": "0def08b4",
      "metadata": {
        "id": "0def08b4",
        "outputId": "1b1b5f7e-72b4-4b90-e3bc-1b5ccd374afa"
      },
      "outputs": [
        {
          "data": {
            "text/html": [
              "<div>\n",
              "<style scoped>\n",
              "    .dataframe tbody tr th:only-of-type {\n",
              "        vertical-align: middle;\n",
              "    }\n",
              "\n",
              "    .dataframe tbody tr th {\n",
              "        vertical-align: top;\n",
              "    }\n",
              "\n",
              "    .dataframe thead th {\n",
              "        text-align: right;\n",
              "    }\n",
              "</style>\n",
              "<table border=\"1\" class=\"dataframe\">\n",
              "  <thead>\n",
              "    <tr style=\"text-align: right;\">\n",
              "      <th></th>\n",
              "      <th>Zone</th>\n",
              "      <th>Produit</th>\n",
              "      <th>Origine</th>\n",
              "      <th>Aliments pour animaux</th>\n",
              "      <th>Autres Utilisations</th>\n",
              "      <th>Disponibilité alimentaire (Kcal/personne/jour)</th>\n",
              "      <th>Disponibilité alimentaire en quantité (kg/personne/an)</th>\n",
              "      <th>Disponibilité de matière grasse en quantité (g/personne/jour)</th>\n",
              "      <th>Disponibilité de protéines en quantité (g/personne/jour)</th>\n",
              "      <th>Disponibilité intérieure</th>\n",
              "      <th>Exportations - Quantité</th>\n",
              "      <th>Importations - Quantité</th>\n",
              "      <th>Nourriture</th>\n",
              "      <th>Pertes</th>\n",
              "      <th>Production</th>\n",
              "      <th>Semences</th>\n",
              "      <th>Traitement</th>\n",
              "      <th>Variation de stock</th>\n",
              "    </tr>\n",
              "  </thead>\n",
              "  <tbody>\n",
              "    <tr>\n",
              "      <th>0</th>\n",
              "      <td>Afghanistan</td>\n",
              "      <td>Abats Comestible</td>\n",
              "      <td>animale</td>\n",
              "      <td>NaN</td>\n",
              "      <td>NaN</td>\n",
              "      <td>5.0</td>\n",
              "      <td>1.72</td>\n",
              "      <td>0.20</td>\n",
              "      <td>0.77</td>\n",
              "      <td>53.0</td>\n",
              "      <td>NaN</td>\n",
              "      <td>NaN</td>\n",
              "      <td>53.0</td>\n",
              "      <td>NaN</td>\n",
              "      <td>53.0</td>\n",
              "      <td>NaN</td>\n",
              "      <td>NaN</td>\n",
              "      <td>NaN</td>\n",
              "    </tr>\n",
              "    <tr>\n",
              "      <th>1</th>\n",
              "      <td>Afghanistan</td>\n",
              "      <td>Agrumes, Autres</td>\n",
              "      <td>vegetale</td>\n",
              "      <td>NaN</td>\n",
              "      <td>NaN</td>\n",
              "      <td>1.0</td>\n",
              "      <td>1.29</td>\n",
              "      <td>0.01</td>\n",
              "      <td>0.02</td>\n",
              "      <td>41.0</td>\n",
              "      <td>2.0</td>\n",
              "      <td>40.0</td>\n",
              "      <td>39.0</td>\n",
              "      <td>2.0</td>\n",
              "      <td>3.0</td>\n",
              "      <td>NaN</td>\n",
              "      <td>NaN</td>\n",
              "      <td>NaN</td>\n",
              "    </tr>\n",
              "    <tr>\n",
              "      <th>2</th>\n",
              "      <td>Afghanistan</td>\n",
              "      <td>Aliments pour enfants</td>\n",
              "      <td>vegetale</td>\n",
              "      <td>NaN</td>\n",
              "      <td>NaN</td>\n",
              "      <td>1.0</td>\n",
              "      <td>0.06</td>\n",
              "      <td>0.01</td>\n",
              "      <td>0.03</td>\n",
              "      <td>2.0</td>\n",
              "      <td>NaN</td>\n",
              "      <td>2.0</td>\n",
              "      <td>2.0</td>\n",
              "      <td>NaN</td>\n",
              "      <td>NaN</td>\n",
              "      <td>NaN</td>\n",
              "      <td>NaN</td>\n",
              "      <td>NaN</td>\n",
              "    </tr>\n",
              "    <tr>\n",
              "      <th>3</th>\n",
              "      <td>Afghanistan</td>\n",
              "      <td>Ananas</td>\n",
              "      <td>vegetale</td>\n",
              "      <td>NaN</td>\n",
              "      <td>NaN</td>\n",
              "      <td>0.0</td>\n",
              "      <td>0.00</td>\n",
              "      <td>NaN</td>\n",
              "      <td>NaN</td>\n",
              "      <td>0.0</td>\n",
              "      <td>NaN</td>\n",
              "      <td>0.0</td>\n",
              "      <td>0.0</td>\n",
              "      <td>NaN</td>\n",
              "      <td>NaN</td>\n",
              "      <td>NaN</td>\n",
              "      <td>NaN</td>\n",
              "      <td>NaN</td>\n",
              "    </tr>\n",
              "    <tr>\n",
              "      <th>4</th>\n",
              "      <td>Afghanistan</td>\n",
              "      <td>Bananes</td>\n",
              "      <td>vegetale</td>\n",
              "      <td>NaN</td>\n",
              "      <td>NaN</td>\n",
              "      <td>4.0</td>\n",
              "      <td>2.70</td>\n",
              "      <td>0.02</td>\n",
              "      <td>0.05</td>\n",
              "      <td>82.0</td>\n",
              "      <td>NaN</td>\n",
              "      <td>82.0</td>\n",
              "      <td>82.0</td>\n",
              "      <td>NaN</td>\n",
              "      <td>NaN</td>\n",
              "      <td>NaN</td>\n",
              "      <td>NaN</td>\n",
              "      <td>NaN</td>\n",
              "    </tr>\n",
              "  </tbody>\n",
              "</table>\n",
              "</div>"
            ],
            "text/plain": [
              "          Zone                Produit   Origine  Aliments pour animaux  \\\n",
              "0  Afghanistan       Abats Comestible   animale                    NaN   \n",
              "1  Afghanistan        Agrumes, Autres  vegetale                    NaN   \n",
              "2  Afghanistan  Aliments pour enfants  vegetale                    NaN   \n",
              "3  Afghanistan                 Ananas  vegetale                    NaN   \n",
              "4  Afghanistan                Bananes  vegetale                    NaN   \n",
              "\n",
              "   Autres Utilisations  Disponibilité alimentaire (Kcal/personne/jour)  \\\n",
              "0                  NaN                                             5.0   \n",
              "1                  NaN                                             1.0   \n",
              "2                  NaN                                             1.0   \n",
              "3                  NaN                                             0.0   \n",
              "4                  NaN                                             4.0   \n",
              "\n",
              "   Disponibilité alimentaire en quantité (kg/personne/an)  \\\n",
              "0                                               1.72        \n",
              "1                                               1.29        \n",
              "2                                               0.06        \n",
              "3                                               0.00        \n",
              "4                                               2.70        \n",
              "\n",
              "   Disponibilité de matière grasse en quantité (g/personne/jour)  \\\n",
              "0                                               0.20               \n",
              "1                                               0.01               \n",
              "2                                               0.01               \n",
              "3                                                NaN               \n",
              "4                                               0.02               \n",
              "\n",
              "   Disponibilité de protéines en quantité (g/personne/jour)  \\\n",
              "0                                               0.77          \n",
              "1                                               0.02          \n",
              "2                                               0.03          \n",
              "3                                                NaN          \n",
              "4                                               0.05          \n",
              "\n",
              "   Disponibilité intérieure  Exportations - Quantité  Importations - Quantité  \\\n",
              "0                      53.0                      NaN                      NaN   \n",
              "1                      41.0                      2.0                     40.0   \n",
              "2                       2.0                      NaN                      2.0   \n",
              "3                       0.0                      NaN                      0.0   \n",
              "4                      82.0                      NaN                     82.0   \n",
              "\n",
              "   Nourriture  Pertes  Production  Semences  Traitement  Variation de stock  \n",
              "0        53.0     NaN        53.0       NaN         NaN                 NaN  \n",
              "1        39.0     2.0         3.0       NaN         NaN                 NaN  \n",
              "2         2.0     NaN         NaN       NaN         NaN                 NaN  \n",
              "3         0.0     NaN         NaN       NaN         NaN                 NaN  \n",
              "4        82.0     NaN         NaN       NaN         NaN                 NaN  "
            ]
          },
          "execution_count": 104,
          "metadata": {},
          "output_type": "execute_result"
        }
      ],
      "source": [
        "dispo_alimentaire = pd.read_csv('dispo_alimentaire.csv')\n",
        "dispo_alimentaire.head()"
      ]
    },
    {
      "cell_type": "code",
      "execution_count": null,
      "id": "9ed996c6",
      "metadata": {
        "id": "9ed996c6",
        "outputId": "679c5ff3-77a7-4e78-d03b-e1814c4a0973"
      },
      "outputs": [
        {
          "data": {
            "text/plain": [
              "Zone\n",
              "Afghanistan       2087.0\n",
              "Afrique du Sud    3020.0\n",
              "Albanie           3188.0\n",
              "Algérie           3293.0\n",
              "Allemagne         3503.0\n",
              "Name: Disponibilité alimentaire (Kcal/personne/jour), dtype: float64"
            ]
          },
          "execution_count": 105,
          "metadata": {},
          "output_type": "execute_result"
        }
      ],
      "source": [
        "dispo_alimentaire_2017 = dispo_alimentaire.groupby('Zone').sum()['Disponibilité alimentaire (Kcal/personne/jour)']\n",
        "dispo_alimentaire_2017.head()"
      ]
    },
    {
      "cell_type": "code",
      "execution_count": null,
      "id": "d4cb966f",
      "metadata": {
        "id": "d4cb966f",
        "outputId": "bf094e4e-3429-4d35-b593-e5b132e66a59"
      },
      "outputs": [
        {
          "data": {
            "text/html": [
              "<div>\n",
              "<style scoped>\n",
              "    .dataframe tbody tr th:only-of-type {\n",
              "        vertical-align: middle;\n",
              "    }\n",
              "\n",
              "    .dataframe tbody tr th {\n",
              "        vertical-align: top;\n",
              "    }\n",
              "\n",
              "    .dataframe thead th {\n",
              "        text-align: right;\n",
              "    }\n",
              "</style>\n",
              "<table border=\"1\" class=\"dataframe\">\n",
              "  <thead>\n",
              "    <tr style=\"text-align: right;\">\n",
              "      <th></th>\n",
              "      <th>Disponibilité alimentaire (Kcal/personne/jour)</th>\n",
              "      <th>Valeur</th>\n",
              "    </tr>\n",
              "    <tr>\n",
              "      <th>Zone</th>\n",
              "      <th></th>\n",
              "      <th></th>\n",
              "    </tr>\n",
              "  </thead>\n",
              "  <tbody>\n",
              "    <tr>\n",
              "      <th>Afghanistan</th>\n",
              "      <td>2087.0</td>\n",
              "      <td>36296113.0</td>\n",
              "    </tr>\n",
              "    <tr>\n",
              "      <th>Afrique du Sud</th>\n",
              "      <td>3020.0</td>\n",
              "      <td>57009756.0</td>\n",
              "    </tr>\n",
              "    <tr>\n",
              "      <th>Albanie</th>\n",
              "      <td>3188.0</td>\n",
              "      <td>2884169.0</td>\n",
              "    </tr>\n",
              "    <tr>\n",
              "      <th>Algérie</th>\n",
              "      <td>3293.0</td>\n",
              "      <td>41389189.0</td>\n",
              "    </tr>\n",
              "    <tr>\n",
              "      <th>Allemagne</th>\n",
              "      <td>3503.0</td>\n",
              "      <td>82658409.0</td>\n",
              "    </tr>\n",
              "  </tbody>\n",
              "</table>\n",
              "</div>"
            ],
            "text/plain": [
              "                Disponibilité alimentaire (Kcal/personne/jour)      Valeur\n",
              "Zone                                                                      \n",
              "Afghanistan                                             2087.0  36296113.0\n",
              "Afrique du Sud                                          3020.0  57009756.0\n",
              "Albanie                                                 3188.0   2884169.0\n",
              "Algérie                                                 3293.0  41389189.0\n",
              "Allemagne                                               3503.0  82658409.0"
            ]
          },
          "execution_count": 106,
          "metadata": {},
          "output_type": "execute_result"
        }
      ],
      "source": [
        "df = pd.merge(dispo_alimentaire_2017,total_population_2017, on ='Zone', how ='left')\n",
        "df.head()"
      ]
    },
    {
      "cell_type": "code",
      "execution_count": null,
      "id": "511105c2",
      "metadata": {
        "id": "511105c2",
        "outputId": "d8209a18-e669-4ebd-bbef-007823db7180"
      },
      "outputs": [
        {
          "data": {
            "text/html": [
              "<div>\n",
              "<style scoped>\n",
              "    .dataframe tbody tr th:only-of-type {\n",
              "        vertical-align: middle;\n",
              "    }\n",
              "\n",
              "    .dataframe tbody tr th {\n",
              "        vertical-align: top;\n",
              "    }\n",
              "\n",
              "    .dataframe thead th {\n",
              "        text-align: right;\n",
              "    }\n",
              "</style>\n",
              "<table border=\"1\" class=\"dataframe\">\n",
              "  <thead>\n",
              "    <tr style=\"text-align: right;\">\n",
              "      <th></th>\n",
              "      <th>Disponibilité alimentaire (Kcal/personne/jour)</th>\n",
              "      <th>Valeur</th>\n",
              "      <th>total</th>\n",
              "    </tr>\n",
              "    <tr>\n",
              "      <th>Zone</th>\n",
              "      <th></th>\n",
              "      <th></th>\n",
              "      <th></th>\n",
              "    </tr>\n",
              "  </thead>\n",
              "  <tbody>\n",
              "    <tr>\n",
              "      <th>Afghanistan</th>\n",
              "      <td>2087.0</td>\n",
              "      <td>36296113.0</td>\n",
              "      <td>7.574999e+10</td>\n",
              "    </tr>\n",
              "    <tr>\n",
              "      <th>Afrique du Sud</th>\n",
              "      <td>3020.0</td>\n",
              "      <td>57009756.0</td>\n",
              "      <td>1.721695e+11</td>\n",
              "    </tr>\n",
              "    <tr>\n",
              "      <th>Albanie</th>\n",
              "      <td>3188.0</td>\n",
              "      <td>2884169.0</td>\n",
              "      <td>9.194731e+09</td>\n",
              "    </tr>\n",
              "    <tr>\n",
              "      <th>Algérie</th>\n",
              "      <td>3293.0</td>\n",
              "      <td>41389189.0</td>\n",
              "      <td>1.362946e+11</td>\n",
              "    </tr>\n",
              "    <tr>\n",
              "      <th>Allemagne</th>\n",
              "      <td>3503.0</td>\n",
              "      <td>82658409.0</td>\n",
              "      <td>2.895524e+11</td>\n",
              "    </tr>\n",
              "  </tbody>\n",
              "</table>\n",
              "</div>"
            ],
            "text/plain": [
              "                Disponibilité alimentaire (Kcal/personne/jour)      Valeur  \\\n",
              "Zone                                                                         \n",
              "Afghanistan                                             2087.0  36296113.0   \n",
              "Afrique du Sud                                          3020.0  57009756.0   \n",
              "Albanie                                                 3188.0   2884169.0   \n",
              "Algérie                                                 3293.0  41389189.0   \n",
              "Allemagne                                               3503.0  82658409.0   \n",
              "\n",
              "                       total  \n",
              "Zone                          \n",
              "Afghanistan     7.574999e+10  \n",
              "Afrique du Sud  1.721695e+11  \n",
              "Albanie         9.194731e+09  \n",
              "Algérie         1.362946e+11  \n",
              "Allemagne       2.895524e+11  "
            ]
          },
          "execution_count": 107,
          "metadata": {},
          "output_type": "execute_result"
        }
      ],
      "source": [
        "df['total'] = df['Valeur'] * df['Disponibilité alimentaire (Kcal/personne/jour)']\n",
        "df.head()"
      ]
    },
    {
      "cell_type": "code",
      "execution_count": null,
      "id": "3fa39a15",
      "metadata": {
        "id": "3fa39a15",
        "outputId": "e68bac62-bbfe-4568-8053-d611e45c2ec3"
      },
      "outputs": [
        {
          "data": {
            "text/plain": [
              "9297326501.036"
            ]
          },
          "execution_count": 108,
          "metadata": {},
          "output_type": "execute_result"
        }
      ],
      "source": [
        "df.sum()['total'] / 2250\n",
        "\n",
        "# Nombre de personnes nourries =\n",
        "# (quantité de nourriture disponible en kilo calories) / (besoins nutritionnels moyens par personne en calories)"
      ]
    },
    {
      "cell_type": "markdown",
      "id": "79e03e3a",
      "metadata": {
        "id": "79e03e3a"
      },
      "source": [
        "# La disponibilité alimentaire des produits végétaux."
      ]
    },
    {
      "cell_type": "code",
      "execution_count": null,
      "id": "433b641c",
      "metadata": {
        "id": "433b641c",
        "outputId": "5d6437eb-a6a0-477a-a731-4106ecb40943"
      },
      "outputs": [
        {
          "data": {
            "text/html": [
              "<div>\n",
              "<style scoped>\n",
              "    .dataframe tbody tr th:only-of-type {\n",
              "        vertical-align: middle;\n",
              "    }\n",
              "\n",
              "    .dataframe tbody tr th {\n",
              "        vertical-align: top;\n",
              "    }\n",
              "\n",
              "    .dataframe thead th {\n",
              "        text-align: right;\n",
              "    }\n",
              "</style>\n",
              "<table border=\"1\" class=\"dataframe\">\n",
              "  <thead>\n",
              "    <tr style=\"text-align: right;\">\n",
              "      <th></th>\n",
              "      <th>Zone</th>\n",
              "      <th>Produit</th>\n",
              "      <th>Origine</th>\n",
              "      <th>Aliments pour animaux</th>\n",
              "      <th>Autres Utilisations</th>\n",
              "      <th>Disponibilité alimentaire (Kcal/personne/jour)</th>\n",
              "      <th>Disponibilité alimentaire en quantité (kg/personne/an)</th>\n",
              "      <th>Disponibilité de matière grasse en quantité (g/personne/jour)</th>\n",
              "      <th>Disponibilité de protéines en quantité (g/personne/jour)</th>\n",
              "      <th>Disponibilité intérieure</th>\n",
              "      <th>Exportations - Quantité</th>\n",
              "      <th>Importations - Quantité</th>\n",
              "      <th>Nourriture</th>\n",
              "      <th>Pertes</th>\n",
              "      <th>Production</th>\n",
              "      <th>Semences</th>\n",
              "      <th>Traitement</th>\n",
              "      <th>Variation de stock</th>\n",
              "    </tr>\n",
              "  </thead>\n",
              "  <tbody>\n",
              "    <tr>\n",
              "      <th>1</th>\n",
              "      <td>Afghanistan</td>\n",
              "      <td>Agrumes, Autres</td>\n",
              "      <td>vegetale</td>\n",
              "      <td>NaN</td>\n",
              "      <td>NaN</td>\n",
              "      <td>1.0</td>\n",
              "      <td>1.29</td>\n",
              "      <td>0.01</td>\n",
              "      <td>0.02</td>\n",
              "      <td>41.0</td>\n",
              "      <td>2.0</td>\n",
              "      <td>40.0</td>\n",
              "      <td>39.0</td>\n",
              "      <td>2.0</td>\n",
              "      <td>3.0</td>\n",
              "      <td>NaN</td>\n",
              "      <td>NaN</td>\n",
              "      <td>NaN</td>\n",
              "    </tr>\n",
              "    <tr>\n",
              "      <th>2</th>\n",
              "      <td>Afghanistan</td>\n",
              "      <td>Aliments pour enfants</td>\n",
              "      <td>vegetale</td>\n",
              "      <td>NaN</td>\n",
              "      <td>NaN</td>\n",
              "      <td>1.0</td>\n",
              "      <td>0.06</td>\n",
              "      <td>0.01</td>\n",
              "      <td>0.03</td>\n",
              "      <td>2.0</td>\n",
              "      <td>NaN</td>\n",
              "      <td>2.0</td>\n",
              "      <td>2.0</td>\n",
              "      <td>NaN</td>\n",
              "      <td>NaN</td>\n",
              "      <td>NaN</td>\n",
              "      <td>NaN</td>\n",
              "      <td>NaN</td>\n",
              "    </tr>\n",
              "    <tr>\n",
              "      <th>3</th>\n",
              "      <td>Afghanistan</td>\n",
              "      <td>Ananas</td>\n",
              "      <td>vegetale</td>\n",
              "      <td>NaN</td>\n",
              "      <td>NaN</td>\n",
              "      <td>0.0</td>\n",
              "      <td>0.00</td>\n",
              "      <td>NaN</td>\n",
              "      <td>NaN</td>\n",
              "      <td>0.0</td>\n",
              "      <td>NaN</td>\n",
              "      <td>0.0</td>\n",
              "      <td>0.0</td>\n",
              "      <td>NaN</td>\n",
              "      <td>NaN</td>\n",
              "      <td>NaN</td>\n",
              "      <td>NaN</td>\n",
              "      <td>NaN</td>\n",
              "    </tr>\n",
              "    <tr>\n",
              "      <th>4</th>\n",
              "      <td>Afghanistan</td>\n",
              "      <td>Bananes</td>\n",
              "      <td>vegetale</td>\n",
              "      <td>NaN</td>\n",
              "      <td>NaN</td>\n",
              "      <td>4.0</td>\n",
              "      <td>2.70</td>\n",
              "      <td>0.02</td>\n",
              "      <td>0.05</td>\n",
              "      <td>82.0</td>\n",
              "      <td>NaN</td>\n",
              "      <td>82.0</td>\n",
              "      <td>82.0</td>\n",
              "      <td>NaN</td>\n",
              "      <td>NaN</td>\n",
              "      <td>NaN</td>\n",
              "      <td>NaN</td>\n",
              "      <td>NaN</td>\n",
              "    </tr>\n",
              "    <tr>\n",
              "      <th>6</th>\n",
              "      <td>Afghanistan</td>\n",
              "      <td>Bière</td>\n",
              "      <td>vegetale</td>\n",
              "      <td>NaN</td>\n",
              "      <td>NaN</td>\n",
              "      <td>0.0</td>\n",
              "      <td>0.09</td>\n",
              "      <td>NaN</td>\n",
              "      <td>0.00</td>\n",
              "      <td>3.0</td>\n",
              "      <td>NaN</td>\n",
              "      <td>3.0</td>\n",
              "      <td>3.0</td>\n",
              "      <td>NaN</td>\n",
              "      <td>NaN</td>\n",
              "      <td>NaN</td>\n",
              "      <td>NaN</td>\n",
              "      <td>NaN</td>\n",
              "    </tr>\n",
              "  </tbody>\n",
              "</table>\n",
              "</div>"
            ],
            "text/plain": [
              "          Zone                Produit   Origine  Aliments pour animaux  \\\n",
              "1  Afghanistan        Agrumes, Autres  vegetale                    NaN   \n",
              "2  Afghanistan  Aliments pour enfants  vegetale                    NaN   \n",
              "3  Afghanistan                 Ananas  vegetale                    NaN   \n",
              "4  Afghanistan                Bananes  vegetale                    NaN   \n",
              "6  Afghanistan                  Bière  vegetale                    NaN   \n",
              "\n",
              "   Autres Utilisations  Disponibilité alimentaire (Kcal/personne/jour)  \\\n",
              "1                  NaN                                             1.0   \n",
              "2                  NaN                                             1.0   \n",
              "3                  NaN                                             0.0   \n",
              "4                  NaN                                             4.0   \n",
              "6                  NaN                                             0.0   \n",
              "\n",
              "   Disponibilité alimentaire en quantité (kg/personne/an)  \\\n",
              "1                                               1.29        \n",
              "2                                               0.06        \n",
              "3                                               0.00        \n",
              "4                                               2.70        \n",
              "6                                               0.09        \n",
              "\n",
              "   Disponibilité de matière grasse en quantité (g/personne/jour)  \\\n",
              "1                                               0.01               \n",
              "2                                               0.01               \n",
              "3                                                NaN               \n",
              "4                                               0.02               \n",
              "6                                                NaN               \n",
              "\n",
              "   Disponibilité de protéines en quantité (g/personne/jour)  \\\n",
              "1                                               0.02          \n",
              "2                                               0.03          \n",
              "3                                                NaN          \n",
              "4                                               0.05          \n",
              "6                                               0.00          \n",
              "\n",
              "   Disponibilité intérieure  Exportations - Quantité  Importations - Quantité  \\\n",
              "1                      41.0                      2.0                     40.0   \n",
              "2                       2.0                      NaN                      2.0   \n",
              "3                       0.0                      NaN                      0.0   \n",
              "4                      82.0                      NaN                     82.0   \n",
              "6                       3.0                      NaN                      3.0   \n",
              "\n",
              "   Nourriture  Pertes  Production  Semences  Traitement  Variation de stock  \n",
              "1        39.0     2.0         3.0       NaN         NaN                 NaN  \n",
              "2         2.0     NaN         NaN       NaN         NaN                 NaN  \n",
              "3         0.0     NaN         NaN       NaN         NaN                 NaN  \n",
              "4        82.0     NaN         NaN       NaN         NaN                 NaN  \n",
              "6         3.0     NaN         NaN       NaN         NaN                 NaN  "
            ]
          },
          "execution_count": 109,
          "metadata": {},
          "output_type": "execute_result"
        }
      ],
      "source": [
        "dispo_alimentaire_vegetaux = dispo_alimentaire.loc[dispo_alimentaire['Origine'] == 'vegetale']\n",
        "dispo_alimentaire_vegetaux.head()"
      ]
    },
    {
      "cell_type": "code",
      "execution_count": null,
      "id": "e4eca436",
      "metadata": {
        "id": "e4eca436",
        "outputId": "dcb34895-c802-471e-fe6f-17716b345f32"
      },
      "outputs": [
        {
          "data": {
            "text/plain": [
              "Zone\n",
              "Afghanistan       1871.0\n",
              "Afrique du Sud    2533.0\n",
              "Albanie           2203.0\n",
              "Algérie           2915.0\n",
              "Allemagne         2461.0\n",
              "Name: Disponibilité alimentaire (Kcal/personne/jour), dtype: float64"
            ]
          },
          "execution_count": 110,
          "metadata": {},
          "output_type": "execute_result"
        }
      ],
      "source": [
        "vegetaux = dispo_alimentaire_vegetaux.groupby('Zone').sum()['Disponibilité alimentaire (Kcal/personne/jour)']\n",
        "vegetaux.head()"
      ]
    },
    {
      "cell_type": "code",
      "execution_count": null,
      "id": "57292a7b",
      "metadata": {
        "id": "57292a7b",
        "outputId": "667373d5-62a3-4ce9-9e60-c6e102f04d1a"
      },
      "outputs": [
        {
          "data": {
            "text/html": [
              "<div>\n",
              "<style scoped>\n",
              "    .dataframe tbody tr th:only-of-type {\n",
              "        vertical-align: middle;\n",
              "    }\n",
              "\n",
              "    .dataframe tbody tr th {\n",
              "        vertical-align: top;\n",
              "    }\n",
              "\n",
              "    .dataframe thead th {\n",
              "        text-align: right;\n",
              "    }\n",
              "</style>\n",
              "<table border=\"1\" class=\"dataframe\">\n",
              "  <thead>\n",
              "    <tr style=\"text-align: right;\">\n",
              "      <th></th>\n",
              "      <th>Disponibilité alimentaire (Kcal/personne/jour)</th>\n",
              "      <th>Valeur</th>\n",
              "    </tr>\n",
              "    <tr>\n",
              "      <th>Zone</th>\n",
              "      <th></th>\n",
              "      <th></th>\n",
              "    </tr>\n",
              "  </thead>\n",
              "  <tbody>\n",
              "    <tr>\n",
              "      <th>Afghanistan</th>\n",
              "      <td>1871.0</td>\n",
              "      <td>36296113.0</td>\n",
              "    </tr>\n",
              "    <tr>\n",
              "      <th>Afrique du Sud</th>\n",
              "      <td>2533.0</td>\n",
              "      <td>57009756.0</td>\n",
              "    </tr>\n",
              "    <tr>\n",
              "      <th>Albanie</th>\n",
              "      <td>2203.0</td>\n",
              "      <td>2884169.0</td>\n",
              "    </tr>\n",
              "    <tr>\n",
              "      <th>Algérie</th>\n",
              "      <td>2915.0</td>\n",
              "      <td>41389189.0</td>\n",
              "    </tr>\n",
              "    <tr>\n",
              "      <th>Allemagne</th>\n",
              "      <td>2461.0</td>\n",
              "      <td>82658409.0</td>\n",
              "    </tr>\n",
              "  </tbody>\n",
              "</table>\n",
              "</div>"
            ],
            "text/plain": [
              "                Disponibilité alimentaire (Kcal/personne/jour)      Valeur\n",
              "Zone                                                                      \n",
              "Afghanistan                                             1871.0  36296113.0\n",
              "Afrique du Sud                                          2533.0  57009756.0\n",
              "Albanie                                                 2203.0   2884169.0\n",
              "Algérie                                                 2915.0  41389189.0\n",
              "Allemagne                                               2461.0  82658409.0"
            ]
          },
          "execution_count": 111,
          "metadata": {},
          "output_type": "execute_result"
        }
      ],
      "source": [
        "df_vegetaux = pd.merge(vegetaux,total_population_2017, on ='Zone', how ='left')\n",
        "df_vegetaux.head()"
      ]
    },
    {
      "cell_type": "code",
      "execution_count": null,
      "id": "91e4e3cf",
      "metadata": {
        "id": "91e4e3cf",
        "outputId": "1cb5ffc6-9043-4cf7-9142-44fbff57085e"
      },
      "outputs": [
        {
          "data": {
            "text/html": [
              "<div>\n",
              "<style scoped>\n",
              "    .dataframe tbody tr th:only-of-type {\n",
              "        vertical-align: middle;\n",
              "    }\n",
              "\n",
              "    .dataframe tbody tr th {\n",
              "        vertical-align: top;\n",
              "    }\n",
              "\n",
              "    .dataframe thead th {\n",
              "        text-align: right;\n",
              "    }\n",
              "</style>\n",
              "<table border=\"1\" class=\"dataframe\">\n",
              "  <thead>\n",
              "    <tr style=\"text-align: right;\">\n",
              "      <th></th>\n",
              "      <th>Disponibilité alimentaire (Kcal/personne/jour)</th>\n",
              "      <th>Valeur</th>\n",
              "      <th>total</th>\n",
              "    </tr>\n",
              "    <tr>\n",
              "      <th>Zone</th>\n",
              "      <th></th>\n",
              "      <th></th>\n",
              "      <th></th>\n",
              "    </tr>\n",
              "  </thead>\n",
              "  <tbody>\n",
              "    <tr>\n",
              "      <th>Afghanistan</th>\n",
              "      <td>1871.0</td>\n",
              "      <td>36296113.0</td>\n",
              "      <td>6.791003e+10</td>\n",
              "    </tr>\n",
              "    <tr>\n",
              "      <th>Afrique du Sud</th>\n",
              "      <td>2533.0</td>\n",
              "      <td>57009756.0</td>\n",
              "      <td>1.444057e+11</td>\n",
              "    </tr>\n",
              "    <tr>\n",
              "      <th>Albanie</th>\n",
              "      <td>2203.0</td>\n",
              "      <td>2884169.0</td>\n",
              "      <td>6.353824e+09</td>\n",
              "    </tr>\n",
              "    <tr>\n",
              "      <th>Algérie</th>\n",
              "      <td>2915.0</td>\n",
              "      <td>41389189.0</td>\n",
              "      <td>1.206495e+11</td>\n",
              "    </tr>\n",
              "    <tr>\n",
              "      <th>Allemagne</th>\n",
              "      <td>2461.0</td>\n",
              "      <td>82658409.0</td>\n",
              "      <td>2.034223e+11</td>\n",
              "    </tr>\n",
              "  </tbody>\n",
              "</table>\n",
              "</div>"
            ],
            "text/plain": [
              "                Disponibilité alimentaire (Kcal/personne/jour)      Valeur  \\\n",
              "Zone                                                                         \n",
              "Afghanistan                                             1871.0  36296113.0   \n",
              "Afrique du Sud                                          2533.0  57009756.0   \n",
              "Albanie                                                 2203.0   2884169.0   \n",
              "Algérie                                                 2915.0  41389189.0   \n",
              "Allemagne                                               2461.0  82658409.0   \n",
              "\n",
              "                       total  \n",
              "Zone                          \n",
              "Afghanistan     6.791003e+10  \n",
              "Afrique du Sud  1.444057e+11  \n",
              "Albanie         6.353824e+09  \n",
              "Algérie         1.206495e+11  \n",
              "Allemagne       2.034223e+11  "
            ]
          },
          "execution_count": 112,
          "metadata": {},
          "output_type": "execute_result"
        }
      ],
      "source": [
        "df_vegetaux['total'] = df_vegetaux['Valeur'] * df_vegetaux['Disponibilité alimentaire (Kcal/personne/jour)']\n",
        "df_vegetaux.head()"
      ]
    },
    {
      "cell_type": "code",
      "execution_count": null,
      "id": "fd083f1b",
      "metadata": {
        "scrolled": true,
        "id": "fd083f1b",
        "outputId": "5883ffd0-2cf9-4801-d47e-1e00352370a2"
      },
      "outputs": [
        {
          "data": {
            "text/plain": [
              "7671450760.67"
            ]
          },
          "execution_count": 113,
          "metadata": {},
          "output_type": "execute_result"
        }
      ],
      "source": [
        "dispo_vetegaux = df_vegetaux.sum()['total']/2250\n",
        "dispo_vetegaux.round(2)"
      ]
    },
    {
      "cell_type": "markdown",
      "id": "b0aeda65",
      "metadata": {
        "id": "b0aeda65"
      },
      "source": [
        "# L'utilisation de la disponibilité intérieure\n",
        "\n",
        "* calculer la somme de la Disponibilité intérieure\n",
        " = Importations_Quantité + Production + Variation de stock - Exportations_Quantité\n",
        " = Aliments pour animaux + Autres utilisations + Nourriture + Pertes +  Semences + Traitement"
      ]
    },
    {
      "cell_type": "code",
      "execution_count": null,
      "id": "26ce7478",
      "metadata": {
        "scrolled": true,
        "id": "26ce7478",
        "outputId": "0ac26500-9fbf-4456-910a-f32bf7ef98f3"
      },
      "outputs": [
        {
          "data": {
            "text/html": [
              "<div>\n",
              "<style scoped>\n",
              "    .dataframe tbody tr th:only-of-type {\n",
              "        vertical-align: middle;\n",
              "    }\n",
              "\n",
              "    .dataframe tbody tr th {\n",
              "        vertical-align: top;\n",
              "    }\n",
              "\n",
              "    .dataframe thead th {\n",
              "        text-align: right;\n",
              "    }\n",
              "</style>\n",
              "<table border=\"1\" class=\"dataframe\">\n",
              "  <thead>\n",
              "    <tr style=\"text-align: right;\">\n",
              "      <th></th>\n",
              "      <th>Zone</th>\n",
              "      <th>Produit</th>\n",
              "      <th>Origine</th>\n",
              "      <th>Aliments pour animaux</th>\n",
              "      <th>Autres Utilisations</th>\n",
              "      <th>Disponibilité alimentaire (Kcal/personne/jour)</th>\n",
              "      <th>Disponibilité alimentaire en quantité (kg/personne/an)</th>\n",
              "      <th>Disponibilité de matière grasse en quantité (g/personne/jour)</th>\n",
              "      <th>Disponibilité de protéines en quantité (g/personne/jour)</th>\n",
              "      <th>Disponibilité intérieure</th>\n",
              "      <th>Exportations - Quantité</th>\n",
              "      <th>Importations - Quantité</th>\n",
              "      <th>Nourriture</th>\n",
              "      <th>Pertes</th>\n",
              "      <th>Production</th>\n",
              "      <th>Semences</th>\n",
              "      <th>Traitement</th>\n",
              "      <th>Variation de stock</th>\n",
              "    </tr>\n",
              "  </thead>\n",
              "  <tbody>\n",
              "    <tr>\n",
              "      <th>0</th>\n",
              "      <td>Afghanistan</td>\n",
              "      <td>Abats Comestible</td>\n",
              "      <td>animale</td>\n",
              "      <td>NaN</td>\n",
              "      <td>NaN</td>\n",
              "      <td>5.0</td>\n",
              "      <td>1.72</td>\n",
              "      <td>0.20</td>\n",
              "      <td>0.77</td>\n",
              "      <td>53.0</td>\n",
              "      <td>NaN</td>\n",
              "      <td>NaN</td>\n",
              "      <td>53.0</td>\n",
              "      <td>NaN</td>\n",
              "      <td>53.0</td>\n",
              "      <td>NaN</td>\n",
              "      <td>NaN</td>\n",
              "      <td>NaN</td>\n",
              "    </tr>\n",
              "    <tr>\n",
              "      <th>1</th>\n",
              "      <td>Afghanistan</td>\n",
              "      <td>Agrumes, Autres</td>\n",
              "      <td>vegetale</td>\n",
              "      <td>NaN</td>\n",
              "      <td>NaN</td>\n",
              "      <td>1.0</td>\n",
              "      <td>1.29</td>\n",
              "      <td>0.01</td>\n",
              "      <td>0.02</td>\n",
              "      <td>41.0</td>\n",
              "      <td>2.0</td>\n",
              "      <td>40.0</td>\n",
              "      <td>39.0</td>\n",
              "      <td>2.0</td>\n",
              "      <td>3.0</td>\n",
              "      <td>NaN</td>\n",
              "      <td>NaN</td>\n",
              "      <td>NaN</td>\n",
              "    </tr>\n",
              "    <tr>\n",
              "      <th>2</th>\n",
              "      <td>Afghanistan</td>\n",
              "      <td>Aliments pour enfants</td>\n",
              "      <td>vegetale</td>\n",
              "      <td>NaN</td>\n",
              "      <td>NaN</td>\n",
              "      <td>1.0</td>\n",
              "      <td>0.06</td>\n",
              "      <td>0.01</td>\n",
              "      <td>0.03</td>\n",
              "      <td>2.0</td>\n",
              "      <td>NaN</td>\n",
              "      <td>2.0</td>\n",
              "      <td>2.0</td>\n",
              "      <td>NaN</td>\n",
              "      <td>NaN</td>\n",
              "      <td>NaN</td>\n",
              "      <td>NaN</td>\n",
              "      <td>NaN</td>\n",
              "    </tr>\n",
              "    <tr>\n",
              "      <th>3</th>\n",
              "      <td>Afghanistan</td>\n",
              "      <td>Ananas</td>\n",
              "      <td>vegetale</td>\n",
              "      <td>NaN</td>\n",
              "      <td>NaN</td>\n",
              "      <td>0.0</td>\n",
              "      <td>0.00</td>\n",
              "      <td>NaN</td>\n",
              "      <td>NaN</td>\n",
              "      <td>0.0</td>\n",
              "      <td>NaN</td>\n",
              "      <td>0.0</td>\n",
              "      <td>0.0</td>\n",
              "      <td>NaN</td>\n",
              "      <td>NaN</td>\n",
              "      <td>NaN</td>\n",
              "      <td>NaN</td>\n",
              "      <td>NaN</td>\n",
              "    </tr>\n",
              "    <tr>\n",
              "      <th>4</th>\n",
              "      <td>Afghanistan</td>\n",
              "      <td>Bananes</td>\n",
              "      <td>vegetale</td>\n",
              "      <td>NaN</td>\n",
              "      <td>NaN</td>\n",
              "      <td>4.0</td>\n",
              "      <td>2.70</td>\n",
              "      <td>0.02</td>\n",
              "      <td>0.05</td>\n",
              "      <td>82.0</td>\n",
              "      <td>NaN</td>\n",
              "      <td>82.0</td>\n",
              "      <td>82.0</td>\n",
              "      <td>NaN</td>\n",
              "      <td>NaN</td>\n",
              "      <td>NaN</td>\n",
              "      <td>NaN</td>\n",
              "      <td>NaN</td>\n",
              "    </tr>\n",
              "  </tbody>\n",
              "</table>\n",
              "</div>"
            ],
            "text/plain": [
              "          Zone                Produit   Origine  Aliments pour animaux  \\\n",
              "0  Afghanistan       Abats Comestible   animale                    NaN   \n",
              "1  Afghanistan        Agrumes, Autres  vegetale                    NaN   \n",
              "2  Afghanistan  Aliments pour enfants  vegetale                    NaN   \n",
              "3  Afghanistan                 Ananas  vegetale                    NaN   \n",
              "4  Afghanistan                Bananes  vegetale                    NaN   \n",
              "\n",
              "   Autres Utilisations  Disponibilité alimentaire (Kcal/personne/jour)  \\\n",
              "0                  NaN                                             5.0   \n",
              "1                  NaN                                             1.0   \n",
              "2                  NaN                                             1.0   \n",
              "3                  NaN                                             0.0   \n",
              "4                  NaN                                             4.0   \n",
              "\n",
              "   Disponibilité alimentaire en quantité (kg/personne/an)  \\\n",
              "0                                               1.72        \n",
              "1                                               1.29        \n",
              "2                                               0.06        \n",
              "3                                               0.00        \n",
              "4                                               2.70        \n",
              "\n",
              "   Disponibilité de matière grasse en quantité (g/personne/jour)  \\\n",
              "0                                               0.20               \n",
              "1                                               0.01               \n",
              "2                                               0.01               \n",
              "3                                                NaN               \n",
              "4                                               0.02               \n",
              "\n",
              "   Disponibilité de protéines en quantité (g/personne/jour)  \\\n",
              "0                                               0.77          \n",
              "1                                               0.02          \n",
              "2                                               0.03          \n",
              "3                                                NaN          \n",
              "4                                               0.05          \n",
              "\n",
              "   Disponibilité intérieure  Exportations - Quantité  Importations - Quantité  \\\n",
              "0                      53.0                      NaN                      NaN   \n",
              "1                      41.0                      2.0                     40.0   \n",
              "2                       2.0                      NaN                      2.0   \n",
              "3                       0.0                      NaN                      0.0   \n",
              "4                      82.0                      NaN                     82.0   \n",
              "\n",
              "   Nourriture  Pertes  Production  Semences  Traitement  Variation de stock  \n",
              "0        53.0     NaN        53.0       NaN         NaN                 NaN  \n",
              "1        39.0     2.0         3.0       NaN         NaN                 NaN  \n",
              "2         2.0     NaN         NaN       NaN         NaN                 NaN  \n",
              "3         0.0     NaN         NaN       NaN         NaN                 NaN  \n",
              "4        82.0     NaN         NaN       NaN         NaN                 NaN  "
            ]
          },
          "execution_count": 114,
          "metadata": {},
          "output_type": "execute_result"
        }
      ],
      "source": [
        "dispo_alimentaire.head()"
      ]
    },
    {
      "cell_type": "code",
      "execution_count": null,
      "id": "e64f5b30",
      "metadata": {
        "id": "e64f5b30",
        "outputId": "aa8a9a16-2db5-4e3b-8ea3-c3bc25fddff3"
      },
      "outputs": [
        {
          "data": {
            "text/plain": [
              "9848994.0"
            ]
          },
          "execution_count": 115,
          "metadata": {},
          "output_type": "execute_result"
        }
      ],
      "source": [
        "Total_dispo_interieure = dispo_alimentaire.sum()['Disponibilité intérieure']\n",
        "Total_dispo_interieure"
      ]
    },
    {
      "cell_type": "code",
      "execution_count": null,
      "id": "e89f760e",
      "metadata": {
        "id": "e89f760e",
        "outputId": "c223e120-06d4-4594-84b5-ed78d7261d6c"
      },
      "outputs": [
        {
          "data": {
            "text/html": [
              "<div>\n",
              "<style scoped>\n",
              "    .dataframe tbody tr th:only-of-type {\n",
              "        vertical-align: middle;\n",
              "    }\n",
              "\n",
              "    .dataframe tbody tr th {\n",
              "        vertical-align: top;\n",
              "    }\n",
              "\n",
              "    .dataframe thead th {\n",
              "        text-align: right;\n",
              "    }\n",
              "</style>\n",
              "<table border=\"1\" class=\"dataframe\">\n",
              "  <thead>\n",
              "    <tr style=\"text-align: right;\">\n",
              "      <th></th>\n",
              "      <th>Aliments pour animaux</th>\n",
              "      <th>Autres Utilisations</th>\n",
              "      <th>Nourriture</th>\n",
              "      <th>Pertes</th>\n",
              "      <th>Semences</th>\n",
              "      <th>Traitement</th>\n",
              "    </tr>\n",
              "    <tr>\n",
              "      <th>Produit</th>\n",
              "      <th></th>\n",
              "      <th></th>\n",
              "      <th></th>\n",
              "      <th></th>\n",
              "      <th></th>\n",
              "      <th></th>\n",
              "    </tr>\n",
              "  </thead>\n",
              "  <tbody>\n",
              "    <tr>\n",
              "      <th>Abats Comestible</th>\n",
              "      <td>1009.0</td>\n",
              "      <td>848.0</td>\n",
              "      <td>15669.0</td>\n",
              "      <td>73.0</td>\n",
              "      <td>0.0</td>\n",
              "      <td>0.0</td>\n",
              "    </tr>\n",
              "    <tr>\n",
              "      <th>Agrumes, Autres</th>\n",
              "      <td>0.0</td>\n",
              "      <td>25.0</td>\n",
              "      <td>11359.0</td>\n",
              "      <td>810.0</td>\n",
              "      <td>0.0</td>\n",
              "      <td>72.0</td>\n",
              "    </tr>\n",
              "    <tr>\n",
              "      <th>Alcool, non Comestible</th>\n",
              "      <td>0.0</td>\n",
              "      <td>21769.0</td>\n",
              "      <td>0.0</td>\n",
              "      <td>0.0</td>\n",
              "      <td>0.0</td>\n",
              "      <td>0.0</td>\n",
              "    </tr>\n",
              "    <tr>\n",
              "      <th>Aliments pour enfants</th>\n",
              "      <td>0.0</td>\n",
              "      <td>0.0</td>\n",
              "      <td>761.0</td>\n",
              "      <td>1.0</td>\n",
              "      <td>0.0</td>\n",
              "      <td>0.0</td>\n",
              "    </tr>\n",
              "    <tr>\n",
              "      <th>Ananas</th>\n",
              "      <td>0.0</td>\n",
              "      <td>3.0</td>\n",
              "      <td>20757.0</td>\n",
              "      <td>2745.0</td>\n",
              "      <td>0.0</td>\n",
              "      <td>8.0</td>\n",
              "    </tr>\n",
              "  </tbody>\n",
              "</table>\n",
              "</div>"
            ],
            "text/plain": [
              "                        Aliments pour animaux  Autres Utilisations  \\\n",
              "Produit                                                              \n",
              "Abats Comestible                       1009.0                848.0   \n",
              "Agrumes, Autres                           0.0                 25.0   \n",
              "Alcool, non Comestible                    0.0              21769.0   \n",
              "Aliments pour enfants                     0.0                  0.0   \n",
              "Ananas                                    0.0                  3.0   \n",
              "\n",
              "                        Nourriture  Pertes  Semences  Traitement  \n",
              "Produit                                                           \n",
              "Abats Comestible           15669.0    73.0       0.0         0.0  \n",
              "Agrumes, Autres            11359.0   810.0       0.0        72.0  \n",
              "Alcool, non Comestible         0.0     0.0       0.0         0.0  \n",
              "Aliments pour enfants        761.0     1.0       0.0         0.0  \n",
              "Ananas                     20757.0  2745.0       0.0         8.0  "
            ]
          },
          "execution_count": 116,
          "metadata": {},
          "output_type": "execute_result"
        }
      ],
      "source": [
        "dispo_equation = dispo_alimentaire.groupby(by='Produit')[['Aliments pour animaux','Autres Utilisations',\n",
        "                                                          'Nourriture','Pertes','Semences','Traitement']].sum()\n",
        "dispo_equation.head()"
      ]
    },
    {
      "cell_type": "code",
      "execution_count": null,
      "id": "6d92682e",
      "metadata": {
        "id": "6d92682e",
        "outputId": "76bbb7b1-2f22-42d1-bf55-e25b678f70f9"
      },
      "outputs": [
        {
          "data": {
            "text/plain": [
              "Aliments pour animaux    1304245.0\n",
              "Autres Utilisations       865023.0\n",
              "Nourriture               4876258.0\n",
              "Pertes                    453698.0\n",
              "Semences                  154681.0\n",
              "dtype: float64"
            ]
          },
          "execution_count": 117,
          "metadata": {},
          "output_type": "execute_result"
        }
      ],
      "source": [
        "total = dispo_equation.sum()\n",
        "total.head()"
      ]
    },
    {
      "cell_type": "code",
      "execution_count": null,
      "id": "c1722642",
      "metadata": {
        "id": "c1722642",
        "outputId": "1d9b78a5-476c-44fa-f52f-4b507e77708b"
      },
      "outputs": [
        {
          "data": {
            "text/plain": [
              "9858592.0"
            ]
          },
          "execution_count": 118,
          "metadata": {},
          "output_type": "execute_result"
        }
      ],
      "source": [
        "total_dispo_inerieure_equation = total.sum()\n",
        "total_dispo_inerieure_equation"
      ]
    },
    {
      "cell_type": "markdown",
      "id": "0b57150a",
      "metadata": {
        "id": "0b57150a"
      },
      "source": [
        "### alimentation animale"
      ]
    },
    {
      "cell_type": "code",
      "execution_count": null,
      "id": "e329f183",
      "metadata": {
        "id": "e329f183",
        "outputId": "61fc2479-a597-4866-a20e-d23b23e6ed3c"
      },
      "outputs": [
        {
          "data": {
            "text/plain": [
              "1304245.0"
            ]
          },
          "execution_count": 119,
          "metadata": {},
          "output_type": "execute_result"
        }
      ],
      "source": [
        "animale = dispo_alimentaire.groupby('Zone').sum()['Aliments pour animaux']\n",
        "animale.sum()"
      ]
    },
    {
      "cell_type": "code",
      "execution_count": null,
      "id": "ca95f749",
      "metadata": {
        "id": "ca95f749",
        "outputId": "c1b53dda-3611-4386-d7a1-877b2a6b8049"
      },
      "outputs": [
        {
          "data": {
            "text/plain": [
              "13.23"
            ]
          },
          "execution_count": 120,
          "metadata": {},
          "output_type": "execute_result"
        }
      ],
      "source": [
        "animal_pct1 = animale / total_dispo_inerieure_equation * 100\n",
        "animal_pct1.sum().round(2)"
      ]
    },
    {
      "cell_type": "markdown",
      "id": "457f6eb3",
      "metadata": {
        "id": "457f6eb3"
      },
      "source": [
        "### alimentation perdue"
      ]
    },
    {
      "cell_type": "code",
      "execution_count": null,
      "id": "d51a8032",
      "metadata": {
        "id": "d51a8032",
        "outputId": "a72e49f9-7a64-4eb0-b850-1879b05baa74"
      },
      "outputs": [
        {
          "data": {
            "text/plain": [
              "453698.0"
            ]
          },
          "execution_count": 121,
          "metadata": {},
          "output_type": "execute_result"
        }
      ],
      "source": [
        "pertes = dispo_alimentaire.groupby('Zone').sum()['Pertes'].sum()\n",
        "pertes.sum()"
      ]
    },
    {
      "cell_type": "code",
      "execution_count": null,
      "id": "d9090525",
      "metadata": {
        "id": "d9090525",
        "outputId": "bf5c7682-3c51-4d68-a575-83255e0f219a"
      },
      "outputs": [
        {
          "data": {
            "text/plain": [
              "4.6"
            ]
          },
          "execution_count": 122,
          "metadata": {},
          "output_type": "execute_result"
        }
      ],
      "source": [
        "perte_pct1 = pertes / total_dispo_inerieure_equation * 100\n",
        "perte_pct1.round(2)"
      ]
    },
    {
      "cell_type": "markdown",
      "id": "1fcbe8cd",
      "metadata": {
        "id": "1fcbe8cd"
      },
      "source": [
        "### alimentation humaine"
      ]
    },
    {
      "cell_type": "code",
      "execution_count": null,
      "id": "f45c627e",
      "metadata": {
        "id": "f45c627e",
        "outputId": "18bea1ef-0d36-4689-91b6-6ea18d89880f"
      },
      "outputs": [
        {
          "data": {
            "text/plain": [
              "4876258.0"
            ]
          },
          "execution_count": 123,
          "metadata": {},
          "output_type": "execute_result"
        }
      ],
      "source": [
        "humaine = dispo_alimentaire.groupby('Zone').sum()['Nourriture'].sum()\n",
        "humaine"
      ]
    },
    {
      "cell_type": "code",
      "execution_count": null,
      "id": "80c6248e",
      "metadata": {
        "id": "80c6248e",
        "outputId": "756eb946-3ab8-4405-9429-1531b3e8fea3"
      },
      "outputs": [
        {
          "data": {
            "text/plain": [
              "49.46"
            ]
          },
          "execution_count": 124,
          "metadata": {},
          "output_type": "execute_result"
        }
      ],
      "source": [
        "humaine_pct1 = humaine / total_dispo_inerieure_equation * 100\n",
        "humaine_pct1.round(2)"
      ]
    },
    {
      "cell_type": "markdown",
      "id": "dec74ebe",
      "metadata": {
        "id": "dec74ebe"
      },
      "source": [
        "# Les pays pour lesquels la proportion de personnes sous-alimentées est la plus forte en 2017"
      ]
    },
    {
      "cell_type": "code",
      "execution_count": null,
      "id": "da82ab7c",
      "metadata": {
        "scrolled": false,
        "id": "da82ab7c",
        "outputId": "14a26dca-e74b-46e5-c319-4851a6e94065"
      },
      "outputs": [
        {
          "data": {
            "text/plain": [
              "Zone\n",
              "Afghanistan       36296113.0\n",
              "Afrique du Sud    57009756.0\n",
              "Albanie            2884169.0\n",
              "Algérie           41389189.0\n",
              "Allemagne         82658409.0\n",
              "Name: Valeur, dtype: float64"
            ]
          },
          "execution_count": 125,
          "metadata": {},
          "output_type": "execute_result"
        }
      ],
      "source": [
        "total_population_2017.head()"
      ]
    },
    {
      "cell_type": "code",
      "execution_count": null,
      "id": "2be4c28d",
      "metadata": {
        "scrolled": true,
        "id": "2be4c28d",
        "outputId": "6a023cf8-ce45-4659-e531-81d25f3c0f91"
      },
      "outputs": [
        {
          "data": {
            "text/plain": [
              "Zone\n",
              "Afghanistan       10500000.0\n",
              "Afrique du Sud     3100000.0\n",
              "Albanie             100000.0\n",
              "Algérie            1300000.0\n",
              "Allemagne                0.0\n",
              "Name: Valeur, dtype: float64"
            ]
          },
          "execution_count": 126,
          "metadata": {},
          "output_type": "execute_result"
        }
      ],
      "source": [
        "total_sous_nutrition_2017.head()"
      ]
    },
    {
      "cell_type": "code",
      "execution_count": null,
      "id": "9b20fbe7",
      "metadata": {
        "scrolled": false,
        "id": "9b20fbe7",
        "outputId": "028d76ab-07c5-4426-ecba-c482d6ee3fc5"
      },
      "outputs": [
        {
          "data": {
            "text/html": [
              "<div>\n",
              "<style scoped>\n",
              "    .dataframe tbody tr th:only-of-type {\n",
              "        vertical-align: middle;\n",
              "    }\n",
              "\n",
              "    .dataframe tbody tr th {\n",
              "        vertical-align: top;\n",
              "    }\n",
              "\n",
              "    .dataframe thead th {\n",
              "        text-align: right;\n",
              "    }\n",
              "</style>\n",
              "<table border=\"1\" class=\"dataframe\">\n",
              "  <thead>\n",
              "    <tr style=\"text-align: right;\">\n",
              "      <th></th>\n",
              "      <th>Valeur_x</th>\n",
              "      <th>Valeur_y</th>\n",
              "    </tr>\n",
              "    <tr>\n",
              "      <th>Zone</th>\n",
              "      <th></th>\n",
              "      <th></th>\n",
              "    </tr>\n",
              "  </thead>\n",
              "  <tbody>\n",
              "    <tr>\n",
              "      <th>Afghanistan</th>\n",
              "      <td>10500000.0</td>\n",
              "      <td>36296113.0</td>\n",
              "    </tr>\n",
              "    <tr>\n",
              "      <th>Afrique du Sud</th>\n",
              "      <td>3100000.0</td>\n",
              "      <td>57009756.0</td>\n",
              "    </tr>\n",
              "    <tr>\n",
              "      <th>Albanie</th>\n",
              "      <td>100000.0</td>\n",
              "      <td>2884169.0</td>\n",
              "    </tr>\n",
              "    <tr>\n",
              "      <th>Algérie</th>\n",
              "      <td>1300000.0</td>\n",
              "      <td>41389189.0</td>\n",
              "    </tr>\n",
              "    <tr>\n",
              "      <th>Allemagne</th>\n",
              "      <td>0.0</td>\n",
              "      <td>82658409.0</td>\n",
              "    </tr>\n",
              "  </tbody>\n",
              "</table>\n",
              "</div>"
            ],
            "text/plain": [
              "                  Valeur_x    Valeur_y\n",
              "Zone                                  \n",
              "Afghanistan     10500000.0  36296113.0\n",
              "Afrique du Sud   3100000.0  57009756.0\n",
              "Albanie           100000.0   2884169.0\n",
              "Algérie          1300000.0  41389189.0\n",
              "Allemagne              0.0  82658409.0"
            ]
          },
          "execution_count": 127,
          "metadata": {},
          "output_type": "execute_result"
        }
      ],
      "source": [
        "df = pd.merge(total_sous_nutrition_2017,total_population_2017, on = 'Zone', how = 'left')\n",
        "df.head()"
      ]
    },
    {
      "cell_type": "code",
      "execution_count": null,
      "id": "6294b985",
      "metadata": {
        "id": "6294b985",
        "outputId": "20257ce0-3f49-4bab-f880-405d8202bdfd"
      },
      "outputs": [
        {
          "data": {
            "text/html": [
              "<div>\n",
              "<style scoped>\n",
              "    .dataframe tbody tr th:only-of-type {\n",
              "        vertical-align: middle;\n",
              "    }\n",
              "\n",
              "    .dataframe tbody tr th {\n",
              "        vertical-align: top;\n",
              "    }\n",
              "\n",
              "    .dataframe thead th {\n",
              "        text-align: right;\n",
              "    }\n",
              "</style>\n",
              "<table border=\"1\" class=\"dataframe\">\n",
              "  <thead>\n",
              "    <tr style=\"text-align: right;\">\n",
              "      <th></th>\n",
              "      <th>Valeur_x</th>\n",
              "      <th>Valeur_y</th>\n",
              "    </tr>\n",
              "    <tr>\n",
              "      <th>Zone</th>\n",
              "      <th></th>\n",
              "      <th></th>\n",
              "    </tr>\n",
              "  </thead>\n",
              "  <tbody>\n",
              "    <tr>\n",
              "      <th>Afghanistan</th>\n",
              "      <td>10500000.0</td>\n",
              "      <td>36296113.0</td>\n",
              "    </tr>\n",
              "    <tr>\n",
              "      <th>Afrique du Sud</th>\n",
              "      <td>3100000.0</td>\n",
              "      <td>57009756.0</td>\n",
              "    </tr>\n",
              "    <tr>\n",
              "      <th>Albanie</th>\n",
              "      <td>100000.0</td>\n",
              "      <td>2884169.0</td>\n",
              "    </tr>\n",
              "    <tr>\n",
              "      <th>Algérie</th>\n",
              "      <td>1300000.0</td>\n",
              "      <td>41389189.0</td>\n",
              "    </tr>\n",
              "    <tr>\n",
              "      <th>Allemagne</th>\n",
              "      <td>0.0</td>\n",
              "      <td>82658409.0</td>\n",
              "    </tr>\n",
              "  </tbody>\n",
              "</table>\n",
              "</div>"
            ],
            "text/plain": [
              "                  Valeur_x    Valeur_y\n",
              "Zone                                  \n",
              "Afghanistan     10500000.0  36296113.0\n",
              "Afrique du Sud   3100000.0  57009756.0\n",
              "Albanie           100000.0   2884169.0\n",
              "Algérie          1300000.0  41389189.0\n",
              "Allemagne              0.0  82658409.0"
            ]
          },
          "execution_count": 162,
          "metadata": {},
          "output_type": "execute_result"
        }
      ],
      "source": [
        "population_condition = df.loc[df['Valeur_y'] >= 250000, :]\n",
        "\n",
        "# Le problème de remplacement de 0.1, c'est que pour les pays qui ont une petite population totale, ça leur donne\n",
        "# des valeurs de sous nutritions trop élevées.\n",
        "# Pour les cas de la Dominique, st-Vincent, Sao tomé, ce sont des petites îles.\n",
        "# En excluant les pays ayant une population inférieure à 250 000, je peux éviter que les résultats de mon analyse\n",
        "# ne soient influencés par de petites populations qui pourraient avoir un impact disproportionné sur les résultats.\n",
        "\n",
        "population_condition.head()"
      ]
    },
    {
      "cell_type": "code",
      "execution_count": null,
      "id": "9e7a7bc2",
      "metadata": {
        "scrolled": true,
        "id": "9e7a7bc2",
        "outputId": "dd40f3db-e044-4e11-912a-7a4d059f377d"
      },
      "outputs": [
        {
          "data": {
            "text/plain": [
              "Zone\n",
              "Haïti                                         48.26\n",
              "République populaire démocratique de Corée    47.19\n",
              "Madagascar                                    41.06\n",
              "Libéria                                       38.28\n",
              "Lesotho                                       38.25\n",
              "dtype: float64"
            ]
          },
          "execution_count": 163,
          "metadata": {},
          "output_type": "execute_result"
        }
      ],
      "source": [
        "proportion = population_condition['Valeur_x']/population_condition['Valeur_y']*100\n",
        "proportion.sort_values(ascending = False).round(2).head()\n",
        "\n",
        "# Ensuite je trie en ordre avec la méthode sort_values et je fais l’ordre décroissant en utilisant ascending\n",
        "# = false"
      ]
    },
    {
      "cell_type": "markdown",
      "id": "221f6b0b",
      "metadata": {
        "id": "221f6b0b"
      },
      "source": [
        "# Les pays le plus bénéficié d'aide depuis 2013"
      ]
    },
    {
      "cell_type": "code",
      "execution_count": null,
      "id": "d8070671",
      "metadata": {
        "scrolled": false,
        "id": "d8070671",
        "outputId": "f5a9ff03-2d36-4d3f-8612-31b1358c3416"
      },
      "outputs": [
        {
          "data": {
            "text/html": [
              "<div>\n",
              "<style scoped>\n",
              "    .dataframe tbody tr th:only-of-type {\n",
              "        vertical-align: middle;\n",
              "    }\n",
              "\n",
              "    .dataframe tbody tr th {\n",
              "        vertical-align: top;\n",
              "    }\n",
              "\n",
              "    .dataframe thead th {\n",
              "        text-align: right;\n",
              "    }\n",
              "</style>\n",
              "<table border=\"1\" class=\"dataframe\">\n",
              "  <thead>\n",
              "    <tr style=\"text-align: right;\">\n",
              "      <th></th>\n",
              "      <th>Pays bénéficiaire</th>\n",
              "      <th>Année</th>\n",
              "      <th>Produit</th>\n",
              "      <th>Valeur</th>\n",
              "    </tr>\n",
              "  </thead>\n",
              "  <tbody>\n",
              "    <tr>\n",
              "      <th>0</th>\n",
              "      <td>Afghanistan</td>\n",
              "      <td>2013</td>\n",
              "      <td>Autres non-céréales</td>\n",
              "      <td>682</td>\n",
              "    </tr>\n",
              "    <tr>\n",
              "      <th>1</th>\n",
              "      <td>Afghanistan</td>\n",
              "      <td>2014</td>\n",
              "      <td>Autres non-céréales</td>\n",
              "      <td>335</td>\n",
              "    </tr>\n",
              "    <tr>\n",
              "      <th>2</th>\n",
              "      <td>Afghanistan</td>\n",
              "      <td>2013</td>\n",
              "      <td>Blé et Farin</td>\n",
              "      <td>39224</td>\n",
              "    </tr>\n",
              "    <tr>\n",
              "      <th>3</th>\n",
              "      <td>Afghanistan</td>\n",
              "      <td>2014</td>\n",
              "      <td>Blé et Farin</td>\n",
              "      <td>15160</td>\n",
              "    </tr>\n",
              "    <tr>\n",
              "      <th>4</th>\n",
              "      <td>Afghanistan</td>\n",
              "      <td>2013</td>\n",
              "      <td>Céréales</td>\n",
              "      <td>40504</td>\n",
              "    </tr>\n",
              "  </tbody>\n",
              "</table>\n",
              "</div>"
            ],
            "text/plain": [
              "  Pays bénéficiaire  Année              Produit  Valeur\n",
              "0       Afghanistan   2013  Autres non-céréales     682\n",
              "1       Afghanistan   2014  Autres non-céréales     335\n",
              "2       Afghanistan   2013         Blé et Farin   39224\n",
              "3       Afghanistan   2014         Blé et Farin   15160\n",
              "4       Afghanistan   2013             Céréales   40504"
            ]
          },
          "execution_count": 130,
          "metadata": {},
          "output_type": "execute_result"
        }
      ],
      "source": [
        "aide_alimentaire= pd.read_csv('aide_alimentaire.csv')\n",
        "aide_alimentaire.head()"
      ]
    },
    {
      "cell_type": "code",
      "execution_count": null,
      "id": "9387e9f1",
      "metadata": {
        "scrolled": false,
        "id": "9387e9f1",
        "outputId": "543f68be-a4fb-4c24-bb80-9ed676cc47e0"
      },
      "outputs": [
        {
          "data": {
            "text/plain": [
              "2013    519\n",
              "2014    461\n",
              "2015    391\n",
              "2016    104\n",
              "Name: Année, dtype: int64"
            ]
          },
          "execution_count": 131,
          "metadata": {},
          "output_type": "execute_result"
        }
      ],
      "source": [
        "aide_alimentaire['Année'].value_counts()"
      ]
    },
    {
      "cell_type": "code",
      "execution_count": null,
      "id": "1c819919",
      "metadata": {
        "id": "1c819919",
        "outputId": "901c04f8-24b8-4c79-daec-559884b14818"
      },
      "outputs": [
        {
          "data": {
            "text/plain": [
              "array([2013, 2014, 2015, 2016])"
            ]
          },
          "execution_count": 132,
          "metadata": {},
          "output_type": "execute_result"
        }
      ],
      "source": [
        "aide_alimentaire['Année'].unique()"
      ]
    },
    {
      "cell_type": "code",
      "execution_count": null,
      "id": "41aaf7d8",
      "metadata": {
        "id": "41aaf7d8",
        "outputId": "c6155cec-90c8-46a7-ed9e-9f058cdfc1d9"
      },
      "outputs": [
        {
          "data": {
            "text/plain": [
              "76"
            ]
          },
          "execution_count": 133,
          "metadata": {},
          "output_type": "execute_result"
        }
      ],
      "source": [
        "aide_alimentaire['Pays bénéficiaire'].nunique()"
      ]
    },
    {
      "cell_type": "code",
      "execution_count": null,
      "id": "f6b224cb",
      "metadata": {
        "id": "f6b224cb",
        "outputId": "02c680de-7ca6-45ac-9eb8-c1bf90cd3858"
      },
      "outputs": [
        {
          "data": {
            "text/html": [
              "<div>\n",
              "<style scoped>\n",
              "    .dataframe tbody tr th:only-of-type {\n",
              "        vertical-align: middle;\n",
              "    }\n",
              "\n",
              "    .dataframe tbody tr th {\n",
              "        vertical-align: top;\n",
              "    }\n",
              "\n",
              "    .dataframe thead th {\n",
              "        text-align: right;\n",
              "    }\n",
              "</style>\n",
              "<table border=\"1\" class=\"dataframe\">\n",
              "  <thead>\n",
              "    <tr style=\"text-align: right;\">\n",
              "      <th>Année</th>\n",
              "      <th>2013</th>\n",
              "      <th>2014</th>\n",
              "      <th>2015</th>\n",
              "      <th>2016</th>\n",
              "    </tr>\n",
              "  </thead>\n",
              "  <tbody>\n",
              "    <tr>\n",
              "      <th>count</th>\n",
              "      <td>72.000000</td>\n",
              "      <td>70.000000</td>\n",
              "      <td>60.000000</td>\n",
              "      <td>26.000000</td>\n",
              "    </tr>\n",
              "    <tr>\n",
              "      <th>mean</th>\n",
              "      <td>6690.010374</td>\n",
              "      <td>6853.046505</td>\n",
              "      <td>4453.127778</td>\n",
              "      <td>3602.354396</td>\n",
              "    </tr>\n",
              "    <tr>\n",
              "      <th>std</th>\n",
              "      <td>10316.722052</td>\n",
              "      <td>13285.562943</td>\n",
              "      <td>9113.491087</td>\n",
              "      <td>9621.894856</td>\n",
              "    </tr>\n",
              "    <tr>\n",
              "      <th>min</th>\n",
              "      <td>4.250000</td>\n",
              "      <td>3.000000</td>\n",
              "      <td>0.000000</td>\n",
              "      <td>36.000000</td>\n",
              "    </tr>\n",
              "    <tr>\n",
              "      <th>25%</th>\n",
              "      <td>933.412698</td>\n",
              "      <td>503.900000</td>\n",
              "      <td>625.750000</td>\n",
              "      <td>217.750000</td>\n",
              "    </tr>\n",
              "    <tr>\n",
              "      <th>50%</th>\n",
              "      <td>2605.535714</td>\n",
              "      <td>1737.566667</td>\n",
              "      <td>1797.678571</td>\n",
              "      <td>739.650000</td>\n",
              "    </tr>\n",
              "    <tr>\n",
              "      <th>75%</th>\n",
              "      <td>7686.357143</td>\n",
              "      <td>6795.458333</td>\n",
              "      <td>3688.333333</td>\n",
              "      <td>1328.875000</td>\n",
              "    </tr>\n",
              "    <tr>\n",
              "      <th>max</th>\n",
              "      <td>49283.666667</td>\n",
              "      <td>65187.000000</td>\n",
              "      <td>58327.666667</td>\n",
              "      <td>46557.400000</td>\n",
              "    </tr>\n",
              "  </tbody>\n",
              "</table>\n",
              "</div>"
            ],
            "text/plain": [
              "Année          2013          2014          2015          2016\n",
              "count     72.000000     70.000000     60.000000     26.000000\n",
              "mean    6690.010374   6853.046505   4453.127778   3602.354396\n",
              "std    10316.722052  13285.562943   9113.491087   9621.894856\n",
              "min        4.250000      3.000000      0.000000     36.000000\n",
              "25%      933.412698    503.900000    625.750000    217.750000\n",
              "50%     2605.535714   1737.566667   1797.678571    739.650000\n",
              "75%     7686.357143   6795.458333   3688.333333   1328.875000\n",
              "max    49283.666667  65187.000000  58327.666667  46557.400000"
            ]
          },
          "execution_count": 134,
          "metadata": {},
          "output_type": "execute_result"
        }
      ],
      "source": [
        "pays_beneficiare_année = aide_alimentaire.pivot_table(index = ['Pays bénéficiaire'],\n",
        "                                                      columns=['Année'],\n",
        "                                                      values = 'Valeur')\n",
        "pays_beneficiare_année.describe()"
      ]
    },
    {
      "cell_type": "code",
      "execution_count": null,
      "id": "6a472ecb",
      "metadata": {
        "scrolled": false,
        "id": "6a472ecb",
        "outputId": "351a3b9c-c423-47e2-93c5-e26205a779eb"
      },
      "outputs": [
        {
          "data": {
            "text/html": [
              "<div>\n",
              "<style scoped>\n",
              "    .dataframe tbody tr th:only-of-type {\n",
              "        vertical-align: middle;\n",
              "    }\n",
              "\n",
              "    .dataframe tbody tr th {\n",
              "        vertical-align: top;\n",
              "    }\n",
              "\n",
              "    .dataframe thead th {\n",
              "        text-align: right;\n",
              "    }\n",
              "</style>\n",
              "<table border=\"1\" class=\"dataframe\">\n",
              "  <thead>\n",
              "    <tr style=\"text-align: right;\">\n",
              "      <th></th>\n",
              "      <th>Valeur</th>\n",
              "    </tr>\n",
              "    <tr>\n",
              "      <th>Pays bénéficiaire</th>\n",
              "      <th></th>\n",
              "    </tr>\n",
              "  </thead>\n",
              "  <tbody>\n",
              "    <tr>\n",
              "      <th>République arabe syrienne</th>\n",
              "      <td>1858943</td>\n",
              "    </tr>\n",
              "    <tr>\n",
              "      <th>Éthiopie</th>\n",
              "      <td>1381294</td>\n",
              "    </tr>\n",
              "    <tr>\n",
              "      <th>Yémen</th>\n",
              "      <td>1206484</td>\n",
              "    </tr>\n",
              "    <tr>\n",
              "      <th>Soudan du Sud</th>\n",
              "      <td>695248</td>\n",
              "    </tr>\n",
              "    <tr>\n",
              "      <th>Soudan</th>\n",
              "      <td>669784</td>\n",
              "    </tr>\n",
              "  </tbody>\n",
              "</table>\n",
              "</div>"
            ],
            "text/plain": [
              "                            Valeur\n",
              "Pays bénéficiaire                 \n",
              "République arabe syrienne  1858943\n",
              "Éthiopie                   1381294\n",
              "Yémen                      1206484\n",
              "Soudan du Sud               695248\n",
              "Soudan                      669784"
            ]
          },
          "execution_count": 135,
          "metadata": {},
          "output_type": "execute_result"
        }
      ],
      "source": [
        "pays_beneficiare = aide_alimentaire.pivot_table(index = ['Pays bénéficiaire'],\n",
        "                                     aggfunc =sum,\n",
        "                                     values = 'Valeur').sort_values(by='Valeur',ascending =False)\n",
        "\n",
        "pays_beneficiare.head()"
      ]
    },
    {
      "cell_type": "code",
      "execution_count": null,
      "id": "e9f1e507",
      "metadata": {
        "id": "e9f1e507",
        "outputId": "b22b8f43-61d4-4fb7-9113-eaa2ef29eb73"
      },
      "outputs": [
        {
          "data": {
            "text/html": [
              "<div>\n",
              "<style scoped>\n",
              "    .dataframe tbody tr th:only-of-type {\n",
              "        vertical-align: middle;\n",
              "    }\n",
              "\n",
              "    .dataframe tbody tr th {\n",
              "        vertical-align: top;\n",
              "    }\n",
              "\n",
              "    .dataframe thead th {\n",
              "        text-align: right;\n",
              "    }\n",
              "</style>\n",
              "<table border=\"1\" class=\"dataframe\">\n",
              "  <thead>\n",
              "    <tr style=\"text-align: right;\">\n",
              "      <th></th>\n",
              "      <th>Valeur</th>\n",
              "    </tr>\n",
              "    <tr>\n",
              "      <th>Pays bénéficiaire</th>\n",
              "      <th></th>\n",
              "    </tr>\n",
              "  </thead>\n",
              "  <tbody>\n",
              "    <tr>\n",
              "      <th>République arabe syrienne</th>\n",
              "      <td>48919.552632</td>\n",
              "    </tr>\n",
              "    <tr>\n",
              "      <th>Éthiopie</th>\n",
              "      <td>41857.393939</td>\n",
              "    </tr>\n",
              "    <tr>\n",
              "      <th>Yémen</th>\n",
              "      <td>31749.578947</td>\n",
              "    </tr>\n",
              "    <tr>\n",
              "      <th>Soudan du Sud</th>\n",
              "      <td>31602.181818</td>\n",
              "    </tr>\n",
              "    <tr>\n",
              "      <th>Soudan</th>\n",
              "      <td>27907.666667</td>\n",
              "    </tr>\n",
              "  </tbody>\n",
              "</table>\n",
              "</div>"
            ],
            "text/plain": [
              "                                 Valeur\n",
              "Pays bénéficiaire                      \n",
              "République arabe syrienne  48919.552632\n",
              "Éthiopie                   41857.393939\n",
              "Yémen                      31749.578947\n",
              "Soudan du Sud              31602.181818\n",
              "Soudan                     27907.666667"
            ]
          },
          "execution_count": 136,
          "metadata": {},
          "output_type": "execute_result"
        }
      ],
      "source": [
        "pays_beneficiare = aide_alimentaire.pivot_table(index = ['Pays bénéficiaire'],\n",
        "                                     aggfunc ='mean',\n",
        "                                     values = 'Valeur').sort_values(by='Valeur',ascending =False)\n",
        "pays_beneficiare.head()"
      ]
    },
    {
      "cell_type": "code",
      "execution_count": null,
      "id": "b063eb3c",
      "metadata": {
        "id": "b063eb3c"
      },
      "outputs": [],
      "source": [
        "import matplotlib.pyplot as plt"
      ]
    },
    {
      "cell_type": "code",
      "execution_count": null,
      "id": "801f695c",
      "metadata": {
        "id": "801f695c",
        "outputId": "a369d32f-adb3-4af8-e1ef-a0d255e50eba"
      },
      "outputs": [
        {
          "data": {
            "image/png": "[encoded data removed]",
            "text/plain": [
              "<Figure size 640x480 with 1 Axes>"
            ]
          },
          "metadata": {},
          "output_type": "display_data"
        }
      ],
      "source": [
        "values = [1858943, 1381294, 1206484, 695248, 669784]\n",
        "zone =['République arabe syrienne', 'Éthiopie', 'Yémen', 'Soudan du Sud', 'Soudan']\n",
        "plt.rc('xtick', labelsize=7)\n",
        "plt.rc('ytick', labelsize=7)\n",
        "plt.bar(zone, values);"
      ]
    },
    {
      "cell_type": "markdown",
      "id": "db986750",
      "metadata": {
        "id": "db986750"
      },
      "source": [
        "# Les pays ayant le plus/le moins de disponibilité/habitant"
      ]
    },
    {
      "cell_type": "code",
      "execution_count": null,
      "id": "88aa7aac",
      "metadata": {
        "scrolled": false,
        "id": "88aa7aac",
        "outputId": "9564c140-6388-400e-c89d-d027d2a95a40"
      },
      "outputs": [
        {
          "data": {
            "text/plain": [
              "Zone\n",
              "Afghanistan       2087.0\n",
              "Afrique du Sud    3020.0\n",
              "Albanie           3188.0\n",
              "Algérie           3293.0\n",
              "Allemagne         3503.0\n",
              "Name: Disponibilité alimentaire (Kcal/personne/jour), dtype: float64"
            ]
          },
          "execution_count": 139,
          "metadata": {},
          "output_type": "execute_result"
        }
      ],
      "source": [
        "dispo_pays = dispo_alimentaire.groupby('Zone').sum()['Disponibilité alimentaire (Kcal/personne/jour)']\n",
        "dispo_pays.head()"
      ]
    },
    {
      "cell_type": "code",
      "execution_count": null,
      "id": "0dcfc051",
      "metadata": {
        "scrolled": false,
        "id": "0dcfc051",
        "outputId": "4d0a3450-8a86-4be8-dd16-e456fe9b38c7"
      },
      "outputs": [
        {
          "data": {
            "text/plain": [
              "Zone\n",
              "Autriche                 3770.0\n",
              "Belgique                 3737.0\n",
              "Turquie                  3708.0\n",
              "États-Unis d'Amérique    3682.0\n",
              "Israël                   3610.0\n",
              "Name: Disponibilité alimentaire (Kcal/personne/jour), dtype: float64"
            ]
          },
          "execution_count": 140,
          "metadata": {},
          "output_type": "execute_result"
        }
      ],
      "source": [
        "dispo_pays.sort_values(ascending = False).head()"
      ]
    },
    {
      "cell_type": "code",
      "execution_count": null,
      "id": "f0f54628",
      "metadata": {
        "scrolled": true,
        "id": "f0f54628",
        "outputId": "0a299640-a10a-4ca8-efcd-39e252af2859"
      },
      "outputs": [
        {
          "data": {
            "text/html": [
              "<div>\n",
              "<style scoped>\n",
              "    .dataframe tbody tr th:only-of-type {\n",
              "        vertical-align: middle;\n",
              "    }\n",
              "\n",
              "    .dataframe tbody tr th {\n",
              "        vertical-align: top;\n",
              "    }\n",
              "\n",
              "    .dataframe thead th {\n",
              "        text-align: right;\n",
              "    }\n",
              "</style>\n",
              "<table border=\"1\" class=\"dataframe\">\n",
              "  <thead>\n",
              "    <tr style=\"text-align: right;\">\n",
              "      <th></th>\n",
              "      <th>Zone</th>\n",
              "      <th>Disponibilité alimentaire (Kcal/personne/jour)</th>\n",
              "    </tr>\n",
              "  </thead>\n",
              "  <tbody>\n",
              "    <tr>\n",
              "      <th>0</th>\n",
              "      <td>Haïti</td>\n",
              "      <td>2089.0</td>\n",
              "    </tr>\n",
              "    <tr>\n",
              "      <th>1</th>\n",
              "      <td>Afghanistan</td>\n",
              "      <td>2087.0</td>\n",
              "    </tr>\n",
              "    <tr>\n",
              "      <th>2</th>\n",
              "      <td>Madagascar</td>\n",
              "      <td>2056.0</td>\n",
              "    </tr>\n",
              "    <tr>\n",
              "      <th>3</th>\n",
              "      <td>Zambie</td>\n",
              "      <td>1924.0</td>\n",
              "    </tr>\n",
              "    <tr>\n",
              "      <th>4</th>\n",
              "      <td>République centrafricaine</td>\n",
              "      <td>1879.0</td>\n",
              "    </tr>\n",
              "  </tbody>\n",
              "</table>\n",
              "</div>"
            ],
            "text/plain": [
              "                        Zone  Disponibilité alimentaire (Kcal/personne/jour)\n",
              "0                      Haïti                                          2089.0\n",
              "1                Afghanistan                                          2087.0\n",
              "2                 Madagascar                                          2056.0\n",
              "3                     Zambie                                          1924.0\n",
              "4  République centrafricaine                                          1879.0"
            ]
          },
          "execution_count": 141,
          "metadata": {},
          "output_type": "execute_result"
        }
      ],
      "source": [
        "dispo_ordre = dispo_pays.sort_values(ascending = False).tail()\n",
        "dispo = dispo_ordre.reset_index()\n",
        "dispo"
      ]
    },
    {
      "cell_type": "code",
      "execution_count": null,
      "id": "d54c2aa1",
      "metadata": {
        "id": "d54c2aa1"
      },
      "outputs": [],
      "source": [
        "import seaborn as sns\n",
        "sns.set(style='whitegrid', font_scale=0.7)"
      ]
    },
    {
      "cell_type": "code",
      "execution_count": null,
      "id": "3a7a8a31",
      "metadata": {
        "id": "3a7a8a31",
        "outputId": "5f2fea75-7d0a-43e7-c44a-02da0b851f64"
      },
      "outputs": [
        {
          "data": {
            "image/png": "[encoded data removed]",
            "text/plain": [
              "<Figure size 640x480 with 1 Axes>"
            ]
          },
          "metadata": {},
          "output_type": "display_data"
        }
      ],
      "source": [
        "sns.barplot(data=dispo, x='Zone',y='Disponibilité alimentaire (Kcal/personne/jour)')\n",
        "plt.show()"
      ]
    },
    {
      "cell_type": "markdown",
      "id": "a3578e77",
      "metadata": {
        "id": "a3578e77"
      },
      "source": [
        "# L’utilisation des céréales\n",
        "Lors de mes recherches, j’ai découvert des chiffres intéressants sur l’utilisation des céréales, notamment la répartition entre l’alimentation humaine (colonne Nourriture) et l’alimentation pour animaux. La liste des céréales peut être trouvée en allant fouiller un peu dans l’onglet Bilans alimentaires, sur le lien juste ci-dessus. Peux-tu approfondir ce point ?"
      ]
    },
    {
      "cell_type": "code",
      "execution_count": null,
      "id": "e09a37bb",
      "metadata": {
        "id": "e09a37bb",
        "outputId": "d2bf2dd2-141f-4c49-9ef9-121a1b5bfb21"
      },
      "outputs": [
        {
          "data": {
            "text/html": [
              "<div>\n",
              "<style scoped>\n",
              "    .dataframe tbody tr th:only-of-type {\n",
              "        vertical-align: middle;\n",
              "    }\n",
              "\n",
              "    .dataframe tbody tr th {\n",
              "        vertical-align: top;\n",
              "    }\n",
              "\n",
              "    .dataframe thead th {\n",
              "        text-align: right;\n",
              "    }\n",
              "</style>\n",
              "<table border=\"1\" class=\"dataframe\">\n",
              "  <thead>\n",
              "    <tr style=\"text-align: right;\">\n",
              "      <th></th>\n",
              "      <th>Zone</th>\n",
              "      <th>Produit</th>\n",
              "      <th>Origine</th>\n",
              "      <th>Aliments pour animaux</th>\n",
              "      <th>Autres Utilisations</th>\n",
              "      <th>Disponibilité alimentaire (Kcal/personne/jour)</th>\n",
              "      <th>Disponibilité alimentaire en quantité (kg/personne/an)</th>\n",
              "      <th>Disponibilité de matière grasse en quantité (g/personne/jour)</th>\n",
              "      <th>Disponibilité de protéines en quantité (g/personne/jour)</th>\n",
              "      <th>Disponibilité intérieure</th>\n",
              "      <th>Exportations - Quantité</th>\n",
              "      <th>Importations - Quantité</th>\n",
              "      <th>Nourriture</th>\n",
              "      <th>Pertes</th>\n",
              "      <th>Production</th>\n",
              "      <th>Semences</th>\n",
              "      <th>Traitement</th>\n",
              "      <th>Variation de stock</th>\n",
              "    </tr>\n",
              "  </thead>\n",
              "  <tbody>\n",
              "    <tr>\n",
              "      <th>0</th>\n",
              "      <td>Afghanistan</td>\n",
              "      <td>Abats Comestible</td>\n",
              "      <td>animale</td>\n",
              "      <td>NaN</td>\n",
              "      <td>NaN</td>\n",
              "      <td>5.0</td>\n",
              "      <td>1.72</td>\n",
              "      <td>0.20</td>\n",
              "      <td>0.77</td>\n",
              "      <td>53.0</td>\n",
              "      <td>NaN</td>\n",
              "      <td>NaN</td>\n",
              "      <td>53.0</td>\n",
              "      <td>NaN</td>\n",
              "      <td>53.0</td>\n",
              "      <td>NaN</td>\n",
              "      <td>NaN</td>\n",
              "      <td>NaN</td>\n",
              "    </tr>\n",
              "    <tr>\n",
              "      <th>1</th>\n",
              "      <td>Afghanistan</td>\n",
              "      <td>Agrumes, Autres</td>\n",
              "      <td>vegetale</td>\n",
              "      <td>NaN</td>\n",
              "      <td>NaN</td>\n",
              "      <td>1.0</td>\n",
              "      <td>1.29</td>\n",
              "      <td>0.01</td>\n",
              "      <td>0.02</td>\n",
              "      <td>41.0</td>\n",
              "      <td>2.0</td>\n",
              "      <td>40.0</td>\n",
              "      <td>39.0</td>\n",
              "      <td>2.0</td>\n",
              "      <td>3.0</td>\n",
              "      <td>NaN</td>\n",
              "      <td>NaN</td>\n",
              "      <td>NaN</td>\n",
              "    </tr>\n",
              "    <tr>\n",
              "      <th>2</th>\n",
              "      <td>Afghanistan</td>\n",
              "      <td>Aliments pour enfants</td>\n",
              "      <td>vegetale</td>\n",
              "      <td>NaN</td>\n",
              "      <td>NaN</td>\n",
              "      <td>1.0</td>\n",
              "      <td>0.06</td>\n",
              "      <td>0.01</td>\n",
              "      <td>0.03</td>\n",
              "      <td>2.0</td>\n",
              "      <td>NaN</td>\n",
              "      <td>2.0</td>\n",
              "      <td>2.0</td>\n",
              "      <td>NaN</td>\n",
              "      <td>NaN</td>\n",
              "      <td>NaN</td>\n",
              "      <td>NaN</td>\n",
              "      <td>NaN</td>\n",
              "    </tr>\n",
              "    <tr>\n",
              "      <th>3</th>\n",
              "      <td>Afghanistan</td>\n",
              "      <td>Ananas</td>\n",
              "      <td>vegetale</td>\n",
              "      <td>NaN</td>\n",
              "      <td>NaN</td>\n",
              "      <td>0.0</td>\n",
              "      <td>0.00</td>\n",
              "      <td>NaN</td>\n",
              "      <td>NaN</td>\n",
              "      <td>0.0</td>\n",
              "      <td>NaN</td>\n",
              "      <td>0.0</td>\n",
              "      <td>0.0</td>\n",
              "      <td>NaN</td>\n",
              "      <td>NaN</td>\n",
              "      <td>NaN</td>\n",
              "      <td>NaN</td>\n",
              "      <td>NaN</td>\n",
              "    </tr>\n",
              "    <tr>\n",
              "      <th>4</th>\n",
              "      <td>Afghanistan</td>\n",
              "      <td>Bananes</td>\n",
              "      <td>vegetale</td>\n",
              "      <td>NaN</td>\n",
              "      <td>NaN</td>\n",
              "      <td>4.0</td>\n",
              "      <td>2.70</td>\n",
              "      <td>0.02</td>\n",
              "      <td>0.05</td>\n",
              "      <td>82.0</td>\n",
              "      <td>NaN</td>\n",
              "      <td>82.0</td>\n",
              "      <td>82.0</td>\n",
              "      <td>NaN</td>\n",
              "      <td>NaN</td>\n",
              "      <td>NaN</td>\n",
              "      <td>NaN</td>\n",
              "      <td>NaN</td>\n",
              "    </tr>\n",
              "  </tbody>\n",
              "</table>\n",
              "</div>"
            ],
            "text/plain": [
              "          Zone                Produit   Origine  Aliments pour animaux  \\\n",
              "0  Afghanistan       Abats Comestible   animale                    NaN   \n",
              "1  Afghanistan        Agrumes, Autres  vegetale                    NaN   \n",
              "2  Afghanistan  Aliments pour enfants  vegetale                    NaN   \n",
              "3  Afghanistan                 Ananas  vegetale                    NaN   \n",
              "4  Afghanistan                Bananes  vegetale                    NaN   \n",
              "\n",
              "   Autres Utilisations  Disponibilité alimentaire (Kcal/personne/jour)  \\\n",
              "0                  NaN                                             5.0   \n",
              "1                  NaN                                             1.0   \n",
              "2                  NaN                                             1.0   \n",
              "3                  NaN                                             0.0   \n",
              "4                  NaN                                             4.0   \n",
              "\n",
              "   Disponibilité alimentaire en quantité (kg/personne/an)  \\\n",
              "0                                               1.72        \n",
              "1                                               1.29        \n",
              "2                                               0.06        \n",
              "3                                               0.00        \n",
              "4                                               2.70        \n",
              "\n",
              "   Disponibilité de matière grasse en quantité (g/personne/jour)  \\\n",
              "0                                               0.20               \n",
              "1                                               0.01               \n",
              "2                                               0.01               \n",
              "3                                                NaN               \n",
              "4                                               0.02               \n",
              "\n",
              "   Disponibilité de protéines en quantité (g/personne/jour)  \\\n",
              "0                                               0.77          \n",
              "1                                               0.02          \n",
              "2                                               0.03          \n",
              "3                                                NaN          \n",
              "4                                               0.05          \n",
              "\n",
              "   Disponibilité intérieure  Exportations - Quantité  Importations - Quantité  \\\n",
              "0                      53.0                      NaN                      NaN   \n",
              "1                      41.0                      2.0                     40.0   \n",
              "2                       2.0                      NaN                      2.0   \n",
              "3                       0.0                      NaN                      0.0   \n",
              "4                      82.0                      NaN                     82.0   \n",
              "\n",
              "   Nourriture  Pertes  Production  Semences  Traitement  Variation de stock  \n",
              "0        53.0     NaN        53.0       NaN         NaN                 NaN  \n",
              "1        39.0     2.0         3.0       NaN         NaN                 NaN  \n",
              "2         2.0     NaN         NaN       NaN         NaN                 NaN  \n",
              "3         0.0     NaN         NaN       NaN         NaN                 NaN  \n",
              "4        82.0     NaN         NaN       NaN         NaN                 NaN  "
            ]
          },
          "execution_count": 144,
          "metadata": {},
          "output_type": "execute_result"
        }
      ],
      "source": [
        "dispo_alimentaire.head()"
      ]
    },
    {
      "cell_type": "code",
      "execution_count": null,
      "id": "50a74a05",
      "metadata": {
        "id": "50a74a05",
        "outputId": "1c4a765d-d128-4a85-a330-4b1b719f7432"
      },
      "outputs": [
        {
          "data": {
            "text/plain": [
              "['Avoine',\n",
              " 'Blé',\n",
              " 'Céréales, Autres',\n",
              " 'Maïs',\n",
              " 'Millet',\n",
              " 'Orge',\n",
              " 'Riz (Eq Blanchi)',\n",
              " 'Seigle',\n",
              " 'Sorgho']"
            ]
          },
          "execution_count": 145,
          "metadata": {},
          "output_type": "execute_result"
        }
      ],
      "source": [
        "liste = ['Avoine','Blé','Céréales, Autres','Maïs','Millet','Orge','Riz (Eq Blanchi)','Seigle','Sorgho']\n",
        "liste"
      ]
    },
    {
      "cell_type": "code",
      "execution_count": null,
      "id": "34405537",
      "metadata": {
        "id": "34405537",
        "outputId": "ffa07357-f778-4dd1-bdc1-3627cb4eb79c"
      },
      "outputs": [
        {
          "data": {
            "text/html": [
              "<div>\n",
              "<style scoped>\n",
              "    .dataframe tbody tr th:only-of-type {\n",
              "        vertical-align: middle;\n",
              "    }\n",
              "\n",
              "    .dataframe tbody tr th {\n",
              "        vertical-align: top;\n",
              "    }\n",
              "\n",
              "    .dataframe thead th {\n",
              "        text-align: right;\n",
              "    }\n",
              "</style>\n",
              "<table border=\"1\" class=\"dataframe\">\n",
              "  <thead>\n",
              "    <tr style=\"text-align: right;\">\n",
              "      <th></th>\n",
              "      <th>Zone</th>\n",
              "      <th>Produit</th>\n",
              "      <th>Origine</th>\n",
              "      <th>Aliments pour animaux</th>\n",
              "      <th>Autres Utilisations</th>\n",
              "      <th>Disponibilité alimentaire (Kcal/personne/jour)</th>\n",
              "      <th>Disponibilité alimentaire en quantité (kg/personne/an)</th>\n",
              "      <th>Disponibilité de matière grasse en quantité (g/personne/jour)</th>\n",
              "      <th>Disponibilité de protéines en quantité (g/personne/jour)</th>\n",
              "      <th>Disponibilité intérieure</th>\n",
              "      <th>Exportations - Quantité</th>\n",
              "      <th>Importations - Quantité</th>\n",
              "      <th>Nourriture</th>\n",
              "      <th>Pertes</th>\n",
              "      <th>Production</th>\n",
              "      <th>Semences</th>\n",
              "      <th>Traitement</th>\n",
              "      <th>Variation de stock</th>\n",
              "    </tr>\n",
              "  </thead>\n",
              "  <tbody>\n",
              "    <tr>\n",
              "      <th>7</th>\n",
              "      <td>Afghanistan</td>\n",
              "      <td>Blé</td>\n",
              "      <td>vegetale</td>\n",
              "      <td>NaN</td>\n",
              "      <td>NaN</td>\n",
              "      <td>1369.0</td>\n",
              "      <td>160.23</td>\n",
              "      <td>4.69</td>\n",
              "      <td>36.91</td>\n",
              "      <td>5992.0</td>\n",
              "      <td>NaN</td>\n",
              "      <td>1173.0</td>\n",
              "      <td>4895.0</td>\n",
              "      <td>775.0</td>\n",
              "      <td>5169.0</td>\n",
              "      <td>322.0</td>\n",
              "      <td>NaN</td>\n",
              "      <td>-350.0</td>\n",
              "    </tr>\n",
              "    <tr>\n",
              "      <th>12</th>\n",
              "      <td>Afghanistan</td>\n",
              "      <td>Céréales, Autres</td>\n",
              "      <td>vegetale</td>\n",
              "      <td>NaN</td>\n",
              "      <td>NaN</td>\n",
              "      <td>0.0</td>\n",
              "      <td>0.00</td>\n",
              "      <td>0.00</td>\n",
              "      <td>0.00</td>\n",
              "      <td>0.0</td>\n",
              "      <td>NaN</td>\n",
              "      <td>0.0</td>\n",
              "      <td>0.0</td>\n",
              "      <td>NaN</td>\n",
              "      <td>NaN</td>\n",
              "      <td>NaN</td>\n",
              "      <td>NaN</td>\n",
              "      <td>NaN</td>\n",
              "    </tr>\n",
              "    <tr>\n",
              "      <th>32</th>\n",
              "      <td>Afghanistan</td>\n",
              "      <td>Maïs</td>\n",
              "      <td>vegetale</td>\n",
              "      <td>200.0</td>\n",
              "      <td>NaN</td>\n",
              "      <td>21.0</td>\n",
              "      <td>2.50</td>\n",
              "      <td>0.30</td>\n",
              "      <td>0.56</td>\n",
              "      <td>313.0</td>\n",
              "      <td>0.0</td>\n",
              "      <td>1.0</td>\n",
              "      <td>76.0</td>\n",
              "      <td>31.0</td>\n",
              "      <td>312.0</td>\n",
              "      <td>5.0</td>\n",
              "      <td>NaN</td>\n",
              "      <td>NaN</td>\n",
              "    </tr>\n",
              "    <tr>\n",
              "      <th>34</th>\n",
              "      <td>Afghanistan</td>\n",
              "      <td>Millet</td>\n",
              "      <td>vegetale</td>\n",
              "      <td>NaN</td>\n",
              "      <td>NaN</td>\n",
              "      <td>3.0</td>\n",
              "      <td>0.40</td>\n",
              "      <td>0.02</td>\n",
              "      <td>0.08</td>\n",
              "      <td>13.0</td>\n",
              "      <td>NaN</td>\n",
              "      <td>NaN</td>\n",
              "      <td>12.0</td>\n",
              "      <td>1.0</td>\n",
              "      <td>13.0</td>\n",
              "      <td>0.0</td>\n",
              "      <td>NaN</td>\n",
              "      <td>NaN</td>\n",
              "    </tr>\n",
              "    <tr>\n",
              "      <th>40</th>\n",
              "      <td>Afghanistan</td>\n",
              "      <td>Orge</td>\n",
              "      <td>vegetale</td>\n",
              "      <td>360.0</td>\n",
              "      <td>NaN</td>\n",
              "      <td>26.0</td>\n",
              "      <td>2.92</td>\n",
              "      <td>0.24</td>\n",
              "      <td>0.79</td>\n",
              "      <td>524.0</td>\n",
              "      <td>NaN</td>\n",
              "      <td>10.0</td>\n",
              "      <td>89.0</td>\n",
              "      <td>52.0</td>\n",
              "      <td>514.0</td>\n",
              "      <td>22.0</td>\n",
              "      <td>NaN</td>\n",
              "      <td>0.0</td>\n",
              "    </tr>\n",
              "  </tbody>\n",
              "</table>\n",
              "</div>"
            ],
            "text/plain": [
              "           Zone           Produit   Origine  Aliments pour animaux  \\\n",
              "7   Afghanistan               Blé  vegetale                    NaN   \n",
              "12  Afghanistan  Céréales, Autres  vegetale                    NaN   \n",
              "32  Afghanistan              Maïs  vegetale                  200.0   \n",
              "34  Afghanistan            Millet  vegetale                    NaN   \n",
              "40  Afghanistan              Orge  vegetale                  360.0   \n",
              "\n",
              "    Autres Utilisations  Disponibilité alimentaire (Kcal/personne/jour)  \\\n",
              "7                   NaN                                          1369.0   \n",
              "12                  NaN                                             0.0   \n",
              "32                  NaN                                            21.0   \n",
              "34                  NaN                                             3.0   \n",
              "40                  NaN                                            26.0   \n",
              "\n",
              "    Disponibilité alimentaire en quantité (kg/personne/an)  \\\n",
              "7                                              160.23        \n",
              "12                                               0.00        \n",
              "32                                               2.50        \n",
              "34                                               0.40        \n",
              "40                                               2.92        \n",
              "\n",
              "    Disponibilité de matière grasse en quantité (g/personne/jour)  \\\n",
              "7                                                4.69               \n",
              "12                                               0.00               \n",
              "32                                               0.30               \n",
              "34                                               0.02               \n",
              "40                                               0.24               \n",
              "\n",
              "    Disponibilité de protéines en quantité (g/personne/jour)  \\\n",
              "7                                               36.91          \n",
              "12                                               0.00          \n",
              "32                                               0.56          \n",
              "34                                               0.08          \n",
              "40                                               0.79          \n",
              "\n",
              "    Disponibilité intérieure  Exportations - Quantité  \\\n",
              "7                     5992.0                      NaN   \n",
              "12                       0.0                      NaN   \n",
              "32                     313.0                      0.0   \n",
              "34                      13.0                      NaN   \n",
              "40                     524.0                      NaN   \n",
              "\n",
              "    Importations - Quantité  Nourriture  Pertes  Production  Semences  \\\n",
              "7                    1173.0      4895.0   775.0      5169.0     322.0   \n",
              "12                      0.0         0.0     NaN         NaN       NaN   \n",
              "32                      1.0        76.0    31.0       312.0       5.0   \n",
              "34                      NaN        12.0     1.0        13.0       0.0   \n",
              "40                     10.0        89.0    52.0       514.0      22.0   \n",
              "\n",
              "    Traitement  Variation de stock  \n",
              "7          NaN              -350.0  \n",
              "12         NaN                 NaN  \n",
              "32         NaN                 NaN  \n",
              "34         NaN                 NaN  \n",
              "40         NaN                 0.0  "
            ]
          },
          "execution_count": 146,
          "metadata": {},
          "output_type": "execute_result"
        }
      ],
      "source": [
        "cereales_dispo_alimentaire = dispo_alimentaire.loc[dispo_alimentaire['Produit'].isin(liste)]\n",
        "cereales_dispo_alimentaire.head()"
      ]
    },
    {
      "cell_type": "code",
      "execution_count": null,
      "id": "0fb90de5",
      "metadata": {
        "scrolled": true,
        "id": "0fb90de5",
        "outputId": "b5a701d5-9e8a-4e1d-f70e-58da7165753a"
      },
      "outputs": [
        {
          "data": {
            "text/html": [
              "<div>\n",
              "<style scoped>\n",
              "    .dataframe tbody tr th:only-of-type {\n",
              "        vertical-align: middle;\n",
              "    }\n",
              "\n",
              "    .dataframe tbody tr th {\n",
              "        vertical-align: top;\n",
              "    }\n",
              "\n",
              "    .dataframe thead th {\n",
              "        text-align: right;\n",
              "    }\n",
              "</style>\n",
              "<table border=\"1\" class=\"dataframe\">\n",
              "  <thead>\n",
              "    <tr style=\"text-align: right;\">\n",
              "      <th></th>\n",
              "      <th>Aliments pour animaux</th>\n",
              "      <th>Autres Utilisations</th>\n",
              "      <th>Nourriture</th>\n",
              "      <th>Pertes</th>\n",
              "      <th>Semences</th>\n",
              "      <th>Traitement</th>\n",
              "    </tr>\n",
              "    <tr>\n",
              "      <th>Produit</th>\n",
              "      <th></th>\n",
              "      <th></th>\n",
              "      <th></th>\n",
              "      <th></th>\n",
              "      <th></th>\n",
              "      <th></th>\n",
              "    </tr>\n",
              "  </thead>\n",
              "  <tbody>\n",
              "    <tr>\n",
              "      <th>Avoine</th>\n",
              "      <td>16251.0</td>\n",
              "      <td>206.0</td>\n",
              "      <td>3903.0</td>\n",
              "      <td>514.0</td>\n",
              "      <td>2485.0</td>\n",
              "      <td>36.0</td>\n",
              "    </tr>\n",
              "    <tr>\n",
              "      <th>Blé</th>\n",
              "      <td>129668.0</td>\n",
              "      <td>22424.0</td>\n",
              "      <td>457824.0</td>\n",
              "      <td>27530.0</td>\n",
              "      <td>34283.0</td>\n",
              "      <td>7877.0</td>\n",
              "    </tr>\n",
              "    <tr>\n",
              "      <th>Céréales, Autres</th>\n",
              "      <td>19035.0</td>\n",
              "      <td>1388.0</td>\n",
              "      <td>5324.0</td>\n",
              "      <td>785.0</td>\n",
              "      <td>1203.0</td>\n",
              "      <td>160.0</td>\n",
              "    </tr>\n",
              "    <tr>\n",
              "      <th>Maïs</th>\n",
              "      <td>546116.0</td>\n",
              "      <td>189386.0</td>\n",
              "      <td>125184.0</td>\n",
              "      <td>40701.0</td>\n",
              "      <td>6837.0</td>\n",
              "      <td>47648.0</td>\n",
              "    </tr>\n",
              "    <tr>\n",
              "      <th>Millet</th>\n",
              "      <td>3306.0</td>\n",
              "      <td>196.0</td>\n",
              "      <td>23040.0</td>\n",
              "      <td>2276.0</td>\n",
              "      <td>682.0</td>\n",
              "      <td>403.0</td>\n",
              "    </tr>\n",
              "    <tr>\n",
              "      <th>Orge</th>\n",
              "      <td>92658.0</td>\n",
              "      <td>654.0</td>\n",
              "      <td>6794.0</td>\n",
              "      <td>4628.0</td>\n",
              "      <td>8804.0</td>\n",
              "      <td>26910.0</td>\n",
              "    </tr>\n",
              "    <tr>\n",
              "      <th>Riz (Eq Blanchi)</th>\n",
              "      <td>33594.0</td>\n",
              "      <td>18464.0</td>\n",
              "      <td>377286.0</td>\n",
              "      <td>27378.0</td>\n",
              "      <td>12194.0</td>\n",
              "      <td>6740.0</td>\n",
              "    </tr>\n",
              "    <tr>\n",
              "      <th>Seigle</th>\n",
              "      <td>8099.0</td>\n",
              "      <td>20.0</td>\n",
              "      <td>5502.0</td>\n",
              "      <td>562.0</td>\n",
              "      <td>1262.0</td>\n",
              "      <td>1120.0</td>\n",
              "    </tr>\n",
              "    <tr>\n",
              "      <th>Sorgho</th>\n",
              "      <td>24808.0</td>\n",
              "      <td>2049.0</td>\n",
              "      <td>24153.0</td>\n",
              "      <td>2746.0</td>\n",
              "      <td>788.0</td>\n",
              "      <td>3695.0</td>\n",
              "    </tr>\n",
              "  </tbody>\n",
              "</table>\n",
              "</div>"
            ],
            "text/plain": [
              "                  Aliments pour animaux  Autres Utilisations  Nourriture  \\\n",
              "Produit                                                                    \n",
              "Avoine                          16251.0                206.0      3903.0   \n",
              "Blé                            129668.0              22424.0    457824.0   \n",
              "Céréales, Autres                19035.0               1388.0      5324.0   \n",
              "Maïs                           546116.0             189386.0    125184.0   \n",
              "Millet                           3306.0                196.0     23040.0   \n",
              "Orge                            92658.0                654.0      6794.0   \n",
              "Riz (Eq Blanchi)                33594.0              18464.0    377286.0   \n",
              "Seigle                           8099.0                 20.0      5502.0   \n",
              "Sorgho                          24808.0               2049.0     24153.0   \n",
              "\n",
              "                   Pertes  Semences  Traitement  \n",
              "Produit                                          \n",
              "Avoine              514.0    2485.0        36.0  \n",
              "Blé               27530.0   34283.0      7877.0  \n",
              "Céréales, Autres    785.0    1203.0       160.0  \n",
              "Maïs              40701.0    6837.0     47648.0  \n",
              "Millet             2276.0     682.0       403.0  \n",
              "Orge               4628.0    8804.0     26910.0  \n",
              "Riz (Eq Blanchi)  27378.0   12194.0      6740.0  \n",
              "Seigle              562.0    1262.0      1120.0  \n",
              "Sorgho             2746.0     788.0      3695.0  "
            ]
          },
          "execution_count": 147,
          "metadata": {},
          "output_type": "execute_result"
        }
      ],
      "source": [
        "dispo_cereales = cereales_dispo_alimentaire.groupby(by='Produit')[['Aliments pour animaux',\n",
        "                           'Autres Utilisations','Nourriture','Pertes','Semences','Traitement']].sum()\n",
        "dispo_cereales"
      ]
    },
    {
      "cell_type": "code",
      "execution_count": null,
      "id": "a35f66bb",
      "metadata": {
        "id": "a35f66bb"
      },
      "outputs": [],
      "source": [
        "total_cereales = dispo_cereales.sum()\n",
        "dispo_total = total_cereales.sum()"
      ]
    },
    {
      "cell_type": "code",
      "execution_count": null,
      "id": "d9056917",
      "metadata": {
        "id": "d9056917",
        "outputId": "7c95a8d1-7654-4503-aaee-b8a17d438a3b"
      },
      "outputs": [
        {
          "data": {
            "text/plain": [
              "873535.0"
            ]
          },
          "execution_count": 149,
          "metadata": {},
          "output_type": "execute_result"
        }
      ],
      "source": [
        "c_animaux = cereales_dispo_alimentaire.sum()['Aliments pour animaux']\n",
        "c_animaux"
      ]
    },
    {
      "cell_type": "code",
      "execution_count": null,
      "id": "a61d75b9",
      "metadata": {
        "id": "a61d75b9"
      },
      "outputs": [],
      "source": [
        "proportion_animaux = c_animaux/dispo_total * 100"
      ]
    },
    {
      "cell_type": "code",
      "execution_count": null,
      "id": "763f7c8f",
      "metadata": {
        "id": "763f7c8f",
        "outputId": "0ae8a193-78ea-4557-dba0-71058591df77"
      },
      "outputs": [
        {
          "data": {
            "text/plain": [
              "36.28"
            ]
          },
          "execution_count": 151,
          "metadata": {},
          "output_type": "execute_result"
        }
      ],
      "source": [
        "proportion_animaux.round(2)"
      ]
    },
    {
      "cell_type": "code",
      "execution_count": null,
      "id": "1ca2bfd5",
      "metadata": {
        "id": "1ca2bfd5",
        "outputId": "74fedeac-c876-43cc-ff4a-722c1efd43d7"
      },
      "outputs": [
        {
          "data": {
            "text/plain": [
              "1029010.0"
            ]
          },
          "execution_count": 152,
          "metadata": {},
          "output_type": "execute_result"
        }
      ],
      "source": [
        "c_nourriture = cereales_dispo_alimentaire.sum()['Nourriture']\n",
        "c_nourriture"
      ]
    },
    {
      "cell_type": "code",
      "execution_count": null,
      "id": "7d3c12ad",
      "metadata": {
        "id": "7d3c12ad"
      },
      "outputs": [],
      "source": [
        "proportion_nourriture = c_nourriture /dispo_total * 100"
      ]
    },
    {
      "cell_type": "code",
      "execution_count": null,
      "id": "89b18ec6",
      "metadata": {
        "id": "89b18ec6",
        "outputId": "8a3a1fea-c139-4663-d8c6-ee530433f6e5"
      },
      "outputs": [
        {
          "data": {
            "text/plain": [
              "42.74"
            ]
          },
          "execution_count": 154,
          "metadata": {},
          "output_type": "execute_result"
        }
      ],
      "source": [
        "proportion_nourriture.round(2)"
      ]
    },
    {
      "cell_type": "markdown",
      "id": "9d60e82f",
      "metadata": {
        "id": "9d60e82f"
      },
      "source": [
        "# L'utilisation du manioc par la Thaïlande\n",
        "\n",
        "Enfin, je me souviens d’un exemple étonnant d’utilisation du manioc par la Thaïlande aux égards de la proportion de personnes en sous-nutrition. De mémoire ça concernait l’exportation par rapport à la production... Peux-tu jeter un coup d’œil et nous faire un retour ?"
      ]
    },
    {
      "cell_type": "code",
      "execution_count": null,
      "id": "52147f80",
      "metadata": {
        "scrolled": true,
        "id": "52147f80",
        "outputId": "b27dd00e-e3c4-4a46-c619-552a7adbc180"
      },
      "outputs": [
        {
          "data": {
            "text/html": [
              "<div>\n",
              "<style scoped>\n",
              "    .dataframe tbody tr th:only-of-type {\n",
              "        vertical-align: middle;\n",
              "    }\n",
              "\n",
              "    .dataframe tbody tr th {\n",
              "        vertical-align: top;\n",
              "    }\n",
              "\n",
              "    .dataframe thead th {\n",
              "        text-align: right;\n",
              "    }\n",
              "</style>\n",
              "<table border=\"1\" class=\"dataframe\">\n",
              "  <thead>\n",
              "    <tr style=\"text-align: right;\">\n",
              "      <th></th>\n",
              "      <th>Zone</th>\n",
              "      <th>Produit</th>\n",
              "      <th>Origine</th>\n",
              "      <th>Aliments pour animaux</th>\n",
              "      <th>Autres Utilisations</th>\n",
              "      <th>Disponibilité alimentaire (Kcal/personne/jour)</th>\n",
              "      <th>Disponibilité alimentaire en quantité (kg/personne/an)</th>\n",
              "      <th>Disponibilité de matière grasse en quantité (g/personne/jour)</th>\n",
              "      <th>Disponibilité de protéines en quantité (g/personne/jour)</th>\n",
              "      <th>Disponibilité intérieure</th>\n",
              "      <th>Exportations - Quantité</th>\n",
              "      <th>Importations - Quantité</th>\n",
              "      <th>Nourriture</th>\n",
              "      <th>Pertes</th>\n",
              "      <th>Production</th>\n",
              "      <th>Semences</th>\n",
              "      <th>Traitement</th>\n",
              "      <th>Variation de stock</th>\n",
              "    </tr>\n",
              "  </thead>\n",
              "  <tbody>\n",
              "    <tr>\n",
              "      <th>13809</th>\n",
              "      <td>Thaïlande</td>\n",
              "      <td>Manioc</td>\n",
              "      <td>vegetale</td>\n",
              "      <td>1800.0</td>\n",
              "      <td>2081.0</td>\n",
              "      <td>40.0</td>\n",
              "      <td>13.0</td>\n",
              "      <td>0.05</td>\n",
              "      <td>0.14</td>\n",
              "      <td>6264.0</td>\n",
              "      <td>25214.0</td>\n",
              "      <td>1250.0</td>\n",
              "      <td>871.0</td>\n",
              "      <td>1511.0</td>\n",
              "      <td>30228.0</td>\n",
              "      <td>NaN</td>\n",
              "      <td>0.0</td>\n",
              "      <td>0.0</td>\n",
              "    </tr>\n",
              "  </tbody>\n",
              "</table>\n",
              "</div>"
            ],
            "text/plain": [
              "            Zone Produit   Origine  Aliments pour animaux  \\\n",
              "13809  Thaïlande  Manioc  vegetale                 1800.0   \n",
              "\n",
              "       Autres Utilisations  Disponibilité alimentaire (Kcal/personne/jour)  \\\n",
              "13809               2081.0                                            40.0   \n",
              "\n",
              "       Disponibilité alimentaire en quantité (kg/personne/an)  \\\n",
              "13809                                               13.0        \n",
              "\n",
              "       Disponibilité de matière grasse en quantité (g/personne/jour)  \\\n",
              "13809                                               0.05               \n",
              "\n",
              "       Disponibilité de protéines en quantité (g/personne/jour)  \\\n",
              "13809                                               0.14          \n",
              "\n",
              "       Disponibilité intérieure  Exportations - Quantité  \\\n",
              "13809                    6264.0                  25214.0   \n",
              "\n",
              "       Importations - Quantité  Nourriture  Pertes  Production  Semences  \\\n",
              "13809                   1250.0       871.0  1511.0     30228.0       NaN   \n",
              "\n",
              "       Traitement  Variation de stock  \n",
              "13809         0.0                 0.0  "
            ]
          },
          "execution_count": 155,
          "metadata": {},
          "output_type": "execute_result"
        }
      ],
      "source": [
        "dispo_alimentaire.loc[(dispo_alimentaire['Produit'] == 'Manioc') & (dispo_alimentaire['Zone'] == 'Thaïlande'),:]"
      ]
    },
    {
      "cell_type": "code",
      "execution_count": null,
      "id": "5f004906",
      "metadata": {
        "scrolled": true,
        "id": "5f004906",
        "outputId": "523f43b0-6162-4342-9212-4fedf4cb9363"
      },
      "outputs": [
        {
          "data": {
            "text/html": [
              "<div>\n",
              "<style scoped>\n",
              "    .dataframe tbody tr th:only-of-type {\n",
              "        vertical-align: middle;\n",
              "    }\n",
              "\n",
              "    .dataframe tbody tr th {\n",
              "        vertical-align: top;\n",
              "    }\n",
              "\n",
              "    .dataframe thead th {\n",
              "        text-align: right;\n",
              "    }\n",
              "</style>\n",
              "<table border=\"1\" class=\"dataframe\">\n",
              "  <thead>\n",
              "    <tr style=\"text-align: right;\">\n",
              "      <th></th>\n",
              "      <th>Zone</th>\n",
              "      <th>Année</th>\n",
              "      <th>Valeur</th>\n",
              "    </tr>\n",
              "  </thead>\n",
              "  <tbody>\n",
              "    <tr>\n",
              "      <th>1114</th>\n",
              "      <td>Thaïlande</td>\n",
              "      <td>2016-2018</td>\n",
              "      <td>6.2</td>\n",
              "    </tr>\n",
              "  </tbody>\n",
              "</table>\n",
              "</div>"
            ],
            "text/plain": [
              "           Zone      Année  Valeur\n",
              "1114  Thaïlande  2016-2018     6.2"
            ]
          },
          "execution_count": 156,
          "metadata": {},
          "output_type": "execute_result"
        }
      ],
      "source": [
        "sous_nutrition.loc[(sous_nutrition['Année'] == '2016-2018') & (sous_nutrition['Zone'] == 'Thaïlande'),:]"
      ]
    },
    {
      "cell_type": "code",
      "execution_count": null,
      "id": "e2909514",
      "metadata": {
        "id": "e2909514",
        "outputId": "e197f709-5d67-4f94-9932-c7886b8cadf4"
      },
      "outputs": [
        {
          "data": {
            "text/html": [
              "<div>\n",
              "<style scoped>\n",
              "    .dataframe tbody tr th:only-of-type {\n",
              "        vertical-align: middle;\n",
              "    }\n",
              "\n",
              "    .dataframe tbody tr th {\n",
              "        vertical-align: top;\n",
              "    }\n",
              "\n",
              "    .dataframe thead th {\n",
              "        text-align: right;\n",
              "    }\n",
              "</style>\n",
              "<table border=\"1\" class=\"dataframe\">\n",
              "  <thead>\n",
              "    <tr style=\"text-align: right;\">\n",
              "      <th></th>\n",
              "      <th>Zone</th>\n",
              "      <th>Produit</th>\n",
              "      <th>Origine</th>\n",
              "      <th>Aliments pour animaux</th>\n",
              "      <th>Autres Utilisations</th>\n",
              "      <th>Disponibilité alimentaire (Kcal/personne/jour)</th>\n",
              "      <th>Disponibilité alimentaire en quantité (kg/personne/an)</th>\n",
              "      <th>Disponibilité de matière grasse en quantité (g/personne/jour)</th>\n",
              "      <th>Disponibilité de protéines en quantité (g/personne/jour)</th>\n",
              "      <th>Disponibilité intérieure</th>\n",
              "      <th>Exportations - Quantité</th>\n",
              "      <th>Importations - Quantité</th>\n",
              "      <th>Nourriture</th>\n",
              "      <th>Pertes</th>\n",
              "      <th>Production</th>\n",
              "      <th>Semences</th>\n",
              "      <th>Traitement</th>\n",
              "      <th>Variation de stock</th>\n",
              "    </tr>\n",
              "  </thead>\n",
              "  <tbody>\n",
              "    <tr>\n",
              "      <th>13809</th>\n",
              "      <td>Thaïlande</td>\n",
              "      <td>Manioc</td>\n",
              "      <td>vegetale</td>\n",
              "      <td>1800.0</td>\n",
              "      <td>2081.0</td>\n",
              "      <td>40.0</td>\n",
              "      <td>13.0</td>\n",
              "      <td>0.05</td>\n",
              "      <td>0.14</td>\n",
              "      <td>6264.0</td>\n",
              "      <td>25214.0</td>\n",
              "      <td>1250.0</td>\n",
              "      <td>871.0</td>\n",
              "      <td>1511.0</td>\n",
              "      <td>30228.0</td>\n",
              "      <td>NaN</td>\n",
              "      <td>0.0</td>\n",
              "      <td>0.0</td>\n",
              "    </tr>\n",
              "  </tbody>\n",
              "</table>\n",
              "</div>"
            ],
            "text/plain": [
              "            Zone Produit   Origine  Aliments pour animaux  \\\n",
              "13809  Thaïlande  Manioc  vegetale                 1800.0   \n",
              "\n",
              "       Autres Utilisations  Disponibilité alimentaire (Kcal/personne/jour)  \\\n",
              "13809               2081.0                                            40.0   \n",
              "\n",
              "       Disponibilité alimentaire en quantité (kg/personne/an)  \\\n",
              "13809                                               13.0        \n",
              "\n",
              "       Disponibilité de matière grasse en quantité (g/personne/jour)  \\\n",
              "13809                                               0.05               \n",
              "\n",
              "       Disponibilité de protéines en quantité (g/personne/jour)  \\\n",
              "13809                                               0.14          \n",
              "\n",
              "       Disponibilité intérieure  Exportations - Quantité  \\\n",
              "13809                    6264.0                  25214.0   \n",
              "\n",
              "       Importations - Quantité  Nourriture  Pertes  Production  Semences  \\\n",
              "13809                   1250.0       871.0  1511.0     30228.0       NaN   \n",
              "\n",
              "       Traitement  Variation de stock  \n",
              "13809         0.0                 0.0  "
            ]
          },
          "execution_count": 157,
          "metadata": {},
          "output_type": "execute_result"
        }
      ],
      "source": [
        "manioc_thai = dispo_alimentaire.loc[(dispo_alimentaire['Produit'] == 'Manioc') & (dispo_alimentaire['Zone'] == 'Thaïlande'),:]\n",
        "manioc_thai"
      ]
    },
    {
      "cell_type": "code",
      "execution_count": null,
      "id": "0a596a2c",
      "metadata": {
        "id": "0a596a2c",
        "outputId": "c9060408-3ff5-466e-e38f-30d4fb32b07b"
      },
      "outputs": [
        {
          "data": {
            "text/plain": [
              "13809    83.41273\n",
              "dtype: float64"
            ]
          },
          "execution_count": 158,
          "metadata": {},
          "output_type": "execute_result"
        }
      ],
      "source": [
        "manioc_thai['Exportations - Quantité']/manioc_thai['Production']*100"
      ]
    },
    {
      "cell_type": "markdown",
      "id": "8fbb6658",
      "metadata": {
        "id": "8fbb6658"
      },
      "source": [
        "La quantité de manioc transformé en produits non alimentaires (aliments pour animaux, manioc séché, amidon,\n",
        "bioéthanol) a augmenté. Ces systèmes s'inscrivent dans une chaîne de valeur intégrée tournée vers l'exportation\n",
        "pour approvisionner les industries de transformation (aliments du bétail, glucose, bioplastiques, produits dérivés\n",
        "de l'amidon, etc.) des pays fortement industrialisés (Chine, Corée, Japon, etc.).\n",
        "L'intérêt de la Chine pour le manioc s'explique par la dynamique de sa filière éthanol.\n",
        "En 2011, la Chine était le troisième producteur mondial d'éthanol, après les États-Unis et le Brésil.\n",
        "Le Nigéria est le premier producteur de manioc, mais le système de distribution logistique pour l'exportation\n",
        "n'est pas bien établi. En particulier, l'Asie du Sud-Est peut se permettre d'exporter du riz car c'est un aliment\n",
        "de base, tandis que l'Afrique semble incapable d'exporter car le manioc est largement utilisé comme aliment.\n",
        "\n",
        "En 2017, la Thaïlande a exporté équivalant 83 % de sa production alors que 6.2 millions de personnes souffraient de sous-nutrition."
      ]
    },
    {
      "cell_type": "code",
      "execution_count": null,
      "id": "b346e0cb",
      "metadata": {
        "id": "b346e0cb"
      },
      "outputs": [],
      "source": []
    }
  ],
  "metadata": {
    "kernelspec": {
      "display_name": "Python 3 (ipykernel)",
      "language": "python",
      "name": "python3"
    },
    "language_info": {
      "codemirror_mode": {
        "name": "ipython",
        "version": 3
      },
      "file_extension": ".py",
      "mimetype": "text/x-python",
      "name": "python",
      "nbconvert_exporter": "python",
      "pygments_lexer": "ipython3",
      "version": "3.9.13"
    },
    "toc": {
      "base_numbering": 1,
      "nav_menu": {},
      "number_sections": true,
      "sideBar": true,
      "skip_h1_title": false,
      "title_cell": "Table of Contents",
      "title_sidebar": "Contents",
      "toc_cell": false,
      "toc_position": {},
      "toc_section_display": true,
      "toc_window_display": false
    },
    "varInspector": {
      "cols": {
        "lenName": 16,
        "lenType": 16,
        "lenVar": 40
      },
      "kernels_config": {
        "python": {
          "delete_cmd_postfix": "",
          "delete_cmd_prefix": "del ",
          "library": "var_list.py",
          "varRefreshCmd": "print(var_dic_list())"
        },
        "r": {
          "delete_cmd_postfix": ") ",
          "delete_cmd_prefix": "rm(",
          "library": "var_list.r",
          "varRefreshCmd": "cat(var_dic_list()) "
        }
      },
      "types_to_exclude": [
        "module",
        "function",
        "builtin_function_or_method",
        "instance",
        "_Feature"
      ],
      "window_display": false
    },
    "colab": {
      "provenance": [],
      "include_colab_link": true
    }
  },
  "nbformat": 4,
  "nbformat_minor": 5
}